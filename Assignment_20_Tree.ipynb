{
  "nbformat": 4,
  "nbformat_minor": 0,
  "metadata": {
    "colab": {
      "provenance": []
    },
    "kernelspec": {
      "name": "python3",
      "display_name": "Python 3"
    },
    "language_info": {
      "name": "python"
    }
  },
  "cells": [
    {
      "cell_type": "markdown",
      "source": [
        "<aside>\n",
        "💡 Question-1\n",
        "\n",
        "Given a binary tree, your task is to find subtree with maximum sum in tree.\n",
        "\n",
        "Examples:\n",
        "\n",
        "Input1 :\n",
        "\n",
        "       1\n",
        "\n",
        "     /   \\\n",
        "\n",
        "   2      3\n",
        "\n",
        "  / \\    / \\\n",
        "\n",
        "4   5  6   7\n",
        "\n",
        "Output1 : 28\n",
        "\n",
        "</aside>"
      ],
      "metadata": {
        "id": "SxESJLDuOCcR"
      }
    },
    {
      "cell_type": "code",
      "source": [
        "class Node:\n",
        "    def __init__(self, value):\n",
        "        self.value = value\n",
        "        self.left = None\n",
        "        self.right = None\n",
        "\n",
        "\n",
        "def find_max_subtree_sum(root):\n",
        "    if root is None:\n",
        "        return 0\n",
        "\n",
        "    # Recursively compute the sum of left and right subtrees\n",
        "    left_sum = find_max_subtree_sum(root.left)\n",
        "    right_sum = find_max_subtree_sum(root.right)\n",
        "\n",
        "    # Calculate the sum of the subtree rooted at the current node\n",
        "    subtree_sum = left_sum + right_sum + root.value\n",
        "\n",
        "    # Return the maximum of the current subtree sum, left subtree sum, and right subtree sum\n",
        "    return max(subtree_sum, left_sum, right_sum)\n",
        "\n",
        "\n",
        "# Test the function with the given examples\n",
        "# Example 1:\n",
        "root1 = Node(1)\n",
        "root1.left = Node(2)\n",
        "root1.right = Node(3)\n",
        "root1.left.left = Node(4)\n",
        "root1.left.right = Node(5)\n",
        "root1.right.left = Node(6)\n",
        "root1.right.right = Node(7)\n",
        "\n",
        "print(\"Output1:\", find_max_subtree_sum(root1))  # Output1: 28\n",
        "\n",
        "# Example 2:\n",
        "root2 = Node(1)\n",
        "root2.left = Node(-2)\n",
        "root2.right = Node(3)\n",
        "root2.left.left = Node(4)\n",
        "root2.left.right = Node(5)\n",
        "root2.right.left = Node(-6)\n",
        "root2.right.right = Node(2)\n",
        "\n",
        "print(\"Output2:\", find_max_subtree_sum(root2))"
      ],
      "metadata": {
        "colab": {
          "base_uri": "https://localhost:8080/"
        },
        "id": "kTKG6UYJOCo2",
        "outputId": "07929709-82cb-4c69-c13d-c5156be8ade0"
      },
      "execution_count": 30,
      "outputs": [
        {
          "output_type": "stream",
          "name": "stdout",
          "text": [
            "Output1: 28\n",
            "Output2: 13\n"
          ]
        }
      ]
    },
    {
      "cell_type": "code",
      "source": [],
      "metadata": {
        "id": "XkIPyswtOOs6"
      },
      "execution_count": null,
      "outputs": []
    },
    {
      "cell_type": "markdown",
      "source": [
        "<aside>\n",
        "💡 Question-2\n",
        "\n",
        "Construct the BST (Binary Search Tree) from its given level order traversal.\n",
        "\n",
        "Example:\n",
        "\n",
        "Input: arr[] = {7, 4, 12, 3, 6, 8, 1, 5, 10}\n",
        "\n",
        "Output: BST:\n",
        "\n",
        "            7\n",
        "\n",
        "         /    \\\n",
        "\n",
        "       4     12\n",
        "\n",
        "     /  \\     /\n",
        "\n",
        "    3   6  8\n",
        "\n",
        "   /    /     \\\n",
        "\n",
        " 1    5      10\n",
        "\n",
        "</aside>"
      ],
      "metadata": {
        "id": "4nVdAKvYOPzY"
      }
    },
    {
      "cell_type": "code",
      "source": [
        "class Node:\n",
        "    def __init__(self, value):\n",
        "        self.value = value\n",
        "        self.left = None\n",
        "        self.right = None\n",
        "\n",
        "\n",
        "def construct_bst(level_order):\n",
        "    if not level_order:\n",
        "        return None\n",
        "\n",
        "    root = Node(level_order[0])\n",
        "    queue = [root]\n",
        "    i = 1\n",
        "\n",
        "    while queue and i < len(level_order):\n",
        "        curr_node = queue.pop(0)\n",
        "\n",
        "        if i < len(level_order):\n",
        "            left_val = level_order[i]\n",
        "            if left_val is not None:\n",
        "                curr_node.left = Node(left_val)\n",
        "                queue.append(curr_node.left)\n",
        "            i += 1\n",
        "        if i < len(level_order):\n",
        "            right_val = level_order[i]\n",
        "            if right_val is not None:\n",
        "                curr_node.right = Node(right_val)\n",
        "                queue.append(curr_node.right)\n",
        "            i += 1\n",
        "\n",
        "    return root\n",
        "\n",
        "\n",
        "def inorder_traversal(root):\n",
        "    if root:\n",
        "        inorder_traversal(root.left)\n",
        "        print(root.value, end=' ')\n",
        "        inorder_traversal(root.right)\n",
        "\n",
        "\n",
        "# Test the function with the given example\n",
        "level_order = [7, 4, 12, 3, 6, 8, 1, 5, 10]\n",
        "bst_root = construct_bst(level_order)\n",
        "\n",
        "print(\"BST:\")\n",
        "inorder_traversal(bst_root)"
      ],
      "metadata": {
        "colab": {
          "base_uri": "https://localhost:8080/"
        },
        "id": "LV4zEn0eOUIz",
        "outputId": "a1247f34-75b1-496b-f51f-97d698e1d558"
      },
      "execution_count": 31,
      "outputs": [
        {
          "output_type": "stream",
          "name": "stdout",
          "text": [
            "BST:\n",
            "5 3 10 4 6 7 8 12 1 "
          ]
        }
      ]
    },
    {
      "cell_type": "code",
      "source": [],
      "metadata": {
        "id": "3W4FM3qyOili"
      },
      "execution_count": null,
      "outputs": []
    },
    {
      "cell_type": "markdown",
      "source": [
        "<aside>\n",
        "💡 Question-3\n",
        "\n",
        "Given an array of size n. The problem is to check whether the given array can represent the level order traversal of a Binary Search Tree or not.\n",
        "\n",
        "Examples:\n",
        "\n",
        "Input1 : arr[] = {7, 4, 12, 3, 6, 8, 1, 5, 10}\n",
        "\n",
        "Output1 : Yes\n",
        "\n",
        "</aside>"
      ],
      "metadata": {
        "id": "NDoo5ShuOkiI"
      }
    },
    {
      "cell_type": "code",
      "source": [
        "def is_level_order_bst(arr):\n",
        "    n = len(arr)\n",
        "    if n == 0:\n",
        "        return \"No\"\n",
        "\n",
        "    lower_stack = []\n",
        "    upper_stack = []\n",
        "\n",
        "    # Initialize the bounds for the root node\n",
        "    lower_stack.append(float('-inf'))\n",
        "    upper_stack.append(float('inf'))\n",
        "\n",
        "    i = 0\n",
        "    while i < n:\n",
        "        if not lower_stack or not upper_stack:\n",
        "            break\n",
        "\n",
        "        if arr[i] <= lower_stack[-1] or arr[i] >= upper_stack[-1]:\n",
        "            return \"No\"\n",
        "\n",
        "        if i + 1 < n and arr[i + 1] < arr[i]:\n",
        "            # The current element is the right child of its parent\n",
        "            upper_stack.pop()\n",
        "            upper_stack.append(arr[i])\n",
        "        else:\n",
        "            # The current element is the left child of its parent\n",
        "            lower_stack.pop()\n",
        "            lower_stack.append(arr[i])\n",
        "\n",
        "        i += 1\n",
        "\n",
        "    return \"Yes\"\n",
        "\n",
        "\n",
        "# Test the function with the given examples\n",
        "arr1 = [7, 4, 12, 3, 6, 8, 1, 5, 10]\n",
        "print(\"Output1:\", is_level_order_bst(arr1))"
      ],
      "metadata": {
        "colab": {
          "base_uri": "https://localhost:8080/"
        },
        "id": "OKHTiWzMOpNN",
        "outputId": "47eed74e-17d5-40c6-d0d6-5af32fa8f0ea"
      },
      "execution_count": 32,
      "outputs": [
        {
          "output_type": "stream",
          "name": "stdout",
          "text": [
            "Output1: No\n"
          ]
        }
      ]
    },
    {
      "cell_type": "code",
      "source": [],
      "metadata": {
        "id": "2mlAvGjkOubl"
      },
      "execution_count": null,
      "outputs": []
    }
  ]
}