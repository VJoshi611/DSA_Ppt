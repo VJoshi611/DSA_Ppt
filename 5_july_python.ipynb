{
 "cells": [
  {
   "cell_type": "code",
   "execution_count": 1,
   "id": "379946b5",
   "metadata": {},
   "outputs": [
    {
     "name": "stdout",
     "output_type": "stream",
     "text": [
      "The two strings are anagram of each other\n"
     ]
    }
   ],
   "source": [
    "# 1] Write a Python program to check if a given string is an anagram\n",
    "\n",
    "# Approach : sort both string and validate strings.\n",
    "    \n",
    "def isAnagram(a, b):\n",
    "    \n",
    "    if sorted(a) == sorted(b):\n",
    "        return True\n",
    "    else:\n",
    "        return False\n",
    "\n",
    "a = \"gram\"\n",
    "b = \"garm\"\n",
    "\n",
    "if(isAnagram(a,b)==True):\n",
    "    print(\"The two strings are anagram of each other\")\n",
    "else:\n",
    "    print(\"The two strings are not anagram of each other\")\n"
   ]
  },
  {
   "cell_type": "code",
   "execution_count": 2,
   "id": "5fbbdc4f",
   "metadata": {},
   "outputs": [
    {
     "name": "stdout",
     "output_type": "stream",
     "text": [
      "maxmium value in given dictionary is :  87\n",
      "minimum value in given dictionary is :  5\n"
     ]
    }
   ],
   "source": [
    "# 2] Write a Python program to find the maximum and minimum values in a dictionary.\n",
    "\n",
    "# using in-built functions :\n",
    "\n",
    "dic = {'a':5, 'b':87, 'c': 56,'d' : 15}\n",
    "print(\"maxmium value in given dictionary is : \",max(dic.values()))\n",
    "print(\"minimum value in given dictionary is : \",min(dic.values()))\n",
    "\n"
   ]
  },
  {
   "cell_type": "code",
   "execution_count": 3,
   "id": "16c4dac6",
   "metadata": {},
   "outputs": [
    {
     "name": "stdout",
     "output_type": "stream",
     "text": [
      "Average of list is : 3.5\n"
     ]
    }
   ],
   "source": [
    "# 3. Write a Python program to find the average of a list of numbers.\n",
    "\n",
    "l = [1,2,3,4,5,6]\n",
    "\n",
    "avg_lst = sum(l) / len(l)\n",
    "print(\"Average of list is :\",avg_lst)"
   ]
  },
  {
   "cell_type": "code",
   "execution_count": 4,
   "id": "4616331a",
   "metadata": {},
   "outputs": [
    {
     "name": "stdout",
     "output_type": "stream",
     "text": [
      "String after removing Vowels is : chckvwl\n"
     ]
    }
   ],
   "source": [
    "# 4. Write a Python program to remove all vowels from a string\n",
    "\n",
    "string = \"Checkvowel\"\n",
    "\n",
    "vowels = ['a', 'e', 'i', 'o']\n",
    "result = \"\"\n",
    "\n",
    "for char in string.lower():\n",
    "    if char not in vowels:\n",
    "        result = result + char\n",
    "\n",
    "print(\"String after removing Vowels is :\", result)"
   ]
  },
  {
   "cell_type": "code",
   "execution_count": 5,
   "id": "7e1157d7",
   "metadata": {},
   "outputs": [
    {
     "name": "stdout",
     "output_type": "stream",
     "text": [
      "factorial of 5 is 120\n",
      "factorial of 0 is 1\n"
     ]
    }
   ],
   "source": [
    "# 5. Write a Python function to calculate the factorial of a number using recursion\n",
    "\n",
    "def fac(n):\n",
    "    if n == 0 or n == 1 :\n",
    "        return 1\n",
    "    else:\n",
    "        return n*fac(n-1)\n",
    "    \n",
    "result = fac(5)\n",
    "print(\"factorial of 5 is\",result)\n",
    "result_1 = fac(0)\n",
    "print(\"factorial of 0 is\",result_1)"
   ]
  },
  {
   "cell_type": "code",
   "execution_count": 6,
   "id": "a9ec3664",
   "metadata": {},
   "outputs": [
    {
     "name": "stdout",
     "output_type": "stream",
     "text": [
      "[1, 2, 3, 4, 5, 6]\n",
      "[3, 4, 6, 8]\n"
     ]
    }
   ],
   "source": [
    "#6. Write a Python program to merge two unsorted lists into a single sorted list using the merge sort algorithm.\n",
    "\n",
    "# approach_1 :\n",
    "def merge(l1,l2):\n",
    "    return sorted(l1+l2)\n",
    "    \n",
    "l1 = [1,3,5]\n",
    "l2 = [2,4,6]\n",
    "print(merge(l1,l2))\n",
    "\n",
    "# approach_2 :\n",
    "def merge_2(l1,l2):\n",
    "    final_list = l1+l2\n",
    "    final_list.sort()\n",
    "    return final_list\n",
    "    \n",
    "l3 = [6,8]\n",
    "l4 = [3,4]\n",
    "print(merge_2(l3,l4))\n"
   ]
  },
  {
   "cell_type": "code",
   "execution_count": 7,
   "id": "1be1a407",
   "metadata": {},
   "outputs": [
    {
     "name": "stdout",
     "output_type": "stream",
     "text": [
      "The gcd of 65 and 50 is: 5\n"
     ]
    }
   ],
   "source": [
    "# Write a Python program to find the GCD (Greatest Common Divisor) of two numbers.\n",
    "\n",
    "# using lambda function with recursive approach  :\n",
    "gcd = lambda a, b: a if b == 0 else gcd(b, a % b)\n",
    "\n",
    "a = 65\n",
    "b = 50\n",
    "print(\"The gcd of 65 and 50 is:\", gcd(a, b))"
   ]
  },
  {
   "cell_type": "code",
   "execution_count": 9,
   "id": "3ccd8b84",
   "metadata": {},
   "outputs": [
    {
     "name": "stdout",
     "output_type": "stream",
     "text": [
      "second largest element is : 8\n",
      "60\n"
     ]
    }
   ],
   "source": [
    "# Write a Python program to find the second-largest element in a list.\n",
    "\n",
    "# approach_1 : using sort function\n",
    "def second_element(l):\n",
    "    l.sort()\n",
    "    return l[-2]\n",
    "\n",
    "l = [2,6,4,8,1,3,5,9]\n",
    "print(\"second largest element is :\",second_element(l))\n",
    "\n",
    "\n",
    "# approach 2:\n",
    "def secondmax(l2):\n",
    "    result = [x for x in l2 if x < max(l2)]\n",
    "    return max(result)\n",
    "\n",
    "l2 = [120, 60, 45, 50]\n",
    "print(secondmax(l2))\n"
   ]
  },
  {
   "cell_type": "code",
   "execution_count": 10,
   "id": "c49b72d2",
   "metadata": {},
   "outputs": [
    {
     "name": "stdout",
     "output_type": "stream",
     "text": [
      "Length of LCS is 4\n"
     ]
    }
   ],
   "source": [
    "# Write a Python program to find the longest common subsequence between two strings using dynamic programming\n",
    "\n",
    "\n",
    "def lcs(X , Y, m, n):\t\n",
    "\n",
    "    # list for storing dp values\n",
    "    L = [[None]*(n+1) for i in range(m+1)]\n",
    "\n",
    "    # executing L[m+1][n+1] in bottom up fashion\n",
    "    # L[i][j] contains length of LCS of X[0..i-1] and Y[0..j-1]\n",
    "    for i in range(m+1):\n",
    "        for j in range(n+1):\n",
    "            if i == 0 or j == 0 :\n",
    "                L[i][j] = 0\n",
    "            elif X[i-1] == Y[j-1]:\n",
    "                L[i][j] = L[i-1][j-1]+1\n",
    "            else:\n",
    "                L[i][j] = max(L[i-1][j] , L[i][j-1])\n",
    "\n",
    "# L[m][n] is length of LCS of X[0..n-1] & Y[0..m-1]\n",
    "    return L[m][n]\n",
    "\n",
    "\n",
    "S1 = \"AGGTAB\"\n",
    "S2 = \"GXTXAYB\"\n",
    "m = len(S1)\n",
    "n = len(S2)\n",
    "print (\"Length of LCS is\", lcs(S1, S2, m, n) )\n"
   ]
  },
  {
   "cell_type": "code",
   "execution_count": null,
   "id": "cc067dda",
   "metadata": {},
   "outputs": [],
   "source": []
  },
  {
   "cell_type": "code",
   "execution_count": null,
   "id": "e1bfae28",
   "metadata": {},
   "outputs": [],
   "source": []
  },
  {
   "cell_type": "code",
   "execution_count": null,
   "id": "27f6e696",
   "metadata": {},
   "outputs": [],
   "source": []
  },
  {
   "cell_type": "code",
   "execution_count": null,
   "id": "e47373ac",
   "metadata": {},
   "outputs": [],
   "source": []
  }
 ],
 "metadata": {
  "kernelspec": {
   "display_name": "Python 3 (ipykernel)",
   "language": "python",
   "name": "python3"
  },
  "language_info": {
   "codemirror_mode": {
    "name": "ipython",
    "version": 3
   },
   "file_extension": ".py",
   "mimetype": "text/x-python",
   "name": "python",
   "nbconvert_exporter": "python",
   "pygments_lexer": "ipython3",
   "version": "3.9.12"
  }
 },
 "nbformat": 4,
 "nbformat_minor": 5
}
