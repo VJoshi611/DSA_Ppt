{
  "nbformat": 4,
  "nbformat_minor": 0,
  "metadata": {
    "colab": {
      "provenance": []
    },
    "kernelspec": {
      "name": "python3",
      "display_name": "Python 3"
    },
    "language_info": {
      "name": "python"
    }
  },
  "cells": [
    {
      "cell_type": "code",
      "execution_count": null,
      "metadata": {
        "id": "4cu_KMBKXUKJ"
      },
      "outputs": [],
      "source": [
        "### ASSIGNMENT  8 :--\n",
        "# LEETCODE SOLUTION "
      ]
    },
    {
      "cell_type": "code",
      "source": [
        "# Q1 Given two strings s1 and s2, return the lowest ASCII sum of deleted characters to make two strings equal.\n",
        "\n",
        "\n",
        "class Solution:\n",
        "    def minimumDeleteSum(self, s1: str, s2: str) -> int:\n",
        "        dp = [[0 for j in range(len(s2)+1)] for i in range(len(s1)+1)]\n",
        "        for i in range(len(s1)-1,-1,-1):\n",
        "            for j in range(len(s2)-1,-1,-1):\n",
        "                if s1[i] == s2[j]:\n",
        "                    dp[i][j] = ord(s1[i]) + dp[i+1][j+1]\n",
        "                else:\n",
        "                    dp[i][j] = max(dp[i+1][j],dp[i][j+1])                    \n",
        "        total = 0\n",
        "        for c in s1:\n",
        "            total += ord(c)\n",
        "        for c in s2:\n",
        "            total += ord(c)\n",
        "        return total - dp[0][0]*2"
      ],
      "metadata": {
        "id": "EbvzqbXVXZfu"
      },
      "execution_count": null,
      "outputs": []
    },
    {
      "cell_type": "code",
      "source": [
        "# Question 2** Given a string s containing only three types of characters: '(', ')' and '*', return true *if* s *is **valid***.\n",
        "\n",
        "class Solution:\n",
        "    def checkValidString(self, s: str) -> bool:\n",
        "        leftmin = leftmax = 0\n",
        "        for c in s:\n",
        "            if c == \"(\":\n",
        "                leftmax += 1\n",
        "                leftmin += 1\n",
        "            if c == \")\":\n",
        "                leftmax -= 1\n",
        "                leftmin = max(0, leftmin-1)\n",
        "            if c == \"*\":\n",
        "                leftmax +=1\n",
        "                leftmin = max(0, leftmin-1)\n",
        "            if leftmax < 0:\n",
        "                return False\n",
        "        if leftmin == 0:\n",
        "            return True\n",
        "\n"
      ],
      "metadata": {
        "id": "LOENc2DfXZg0"
      },
      "execution_count": null,
      "outputs": []
    },
    {
      "cell_type": "code",
      "source": [
        "# Q3 Given two strings word1 and word2, return *the minimum number of **steps** required to make* word1 *and* word2 *the same*.\n",
        "# In one **step**, you can delete exactly one character in either string.\n",
        "\n",
        "class Solution:\n",
        "    def minDistance(self, word1: str, word2: str) -> int:\n",
        "        N,M=len(word1),len(word2)\n",
        "        dp=[[0 for _ in range(N+1)]for _ in range(M+1)]\n",
        "        for r in range(M+1):\n",
        "            dp[r][0]=r\n",
        "        for c in range(N+1):\n",
        "            dp[0][c]=c\n",
        "        for r in range(1,M+1):\n",
        "            for c in range(1,N+1):\n",
        "                if word1[c-1]==word2[r-1]:\n",
        "                    dp[r][c]=dp[r-1][c-1]\n",
        "                else :\n",
        "                    dp[r][c]=1+min(dp[r-1][c],dp[r][c-1])\n",
        "        return dp[-1][-1]"
      ],
      "metadata": {
        "id": "qqgKTyUDXZjX"
      },
      "execution_count": null,
      "outputs": []
    },
    {
      "cell_type": "code",
      "source": [
        "# Q4 You need to construct a binary tree from a string consisting of parenthesis and integers.\n",
        "\n",
        "class Solution:\n",
        "    def tree2str(self, root: Optional[TreeNode]) -> str:\n",
        "        if not root:\n",
        "            return \"\"  # base case: empty tree\n",
        "        \n",
        "        left = self.tree2str(root.left)\n",
        "        right = self.tree2str(root.right)\n",
        "        \n",
        "        if left == \"\" and right == \"\":\n",
        "            return str(root.val)\n",
        "        elif left == \"\":\n",
        "            return str(root.val) + \"()\" + \"(\" + right + \")\"\n",
        "        elif right == \"\":\n",
        "            return str(root.val) + \"(\" + left + \")\"\n",
        "        else:\n",
        "            return str(root.val) + \"(\" + left + \")\" + \"(\" + right + \")\""
      ],
      "metadata": {
        "id": "hkM6N8HEXZkr"
      },
      "execution_count": null,
      "outputs": []
    },
    {
      "cell_type": "code",
      "source": [
        "# Q5 Given an array of characters chars, compress it using the following algorithm:\n",
        "\n",
        "class Solution:\n",
        "  def compress(self, chars: List[str]) -> int:\n",
        "    ans = 0\n",
        "    i = 0\n",
        "\n",
        "    while i < len(chars):\n",
        "      letter = chars[i]\n",
        "      count = 0\n",
        "      while i < len(chars) and chars[i] == letter:\n",
        "        count += 1\n",
        "        i += 1\n",
        "      chars[ans] = letter\n",
        "      ans += 1\n",
        "      if count > 1:\n",
        "        for c in str(count):\n",
        "          chars[ans] = c\n",
        "          ans += 1\n",
        "\n",
        "    return ans"
      ],
      "metadata": {
        "id": "d6mYNEPRXZnO"
      },
      "execution_count": null,
      "outputs": []
    },
    {
      "cell_type": "code",
      "source": [
        "# Q6 Given two strings s and p, return an array of all the start indices of p's anagrams in s. You may return the answer in any order.\n",
        "\n",
        "class Solution:\n",
        "    def findAnagrams(self, s: str, p: str) -> List[int]:\n",
        "        s1_l = len(s)\n",
        "        s2_l = len(p)\n",
        "\n",
        "        if s1_l < s2_l:\n",
        "            return []\n",
        "\n",
        "        freq_p = [0 for _ in range(26)]\n",
        "        window = [0 for _ in range(26)]\n",
        "\n",
        "        for i in range(s2_l):\n",
        "            window[ord(s[i])-ord('a')] += 1\n",
        "            freq_p[ord(p[i])-ord('a')] += 1\n",
        "\n",
        "        ans = []\n",
        "        if freq_p == window:\n",
        "            ans.append(0)\n",
        "        \n",
        "        for i in range(s2_l,s1_l):\n",
        "            window[ord(s[i-s2_l]) - ord('a')] -= 1\n",
        "            window[ord(s[i])-ord('a')] += 1\n",
        "            if window == freq_p:\n",
        "                ans.append(i-s2_l+1)\n",
        "        return ans\n",
        "                "
      ],
      "metadata": {
        "id": "Qeo8R0akXZq6"
      },
      "execution_count": null,
      "outputs": []
    },
    {
      "cell_type": "code",
      "source": [
        "# Q7 Given an encoded string, return its decoded string.\n",
        "\n",
        "\n",
        "class Solution(object):\n",
        "    def decodeString(self, s):\n",
        "        stack = []; curNum = 0; curString = ''\n",
        "        for c in s:\n",
        "            if c == '[':\n",
        "                stack.append(curString)\n",
        "                stack.append(curNum)\n",
        "                curString = ''\n",
        "                curNum = 0\n",
        "            elif c == ']':\n",
        "                num = stack.pop()\n",
        "                prevString = stack.pop()\n",
        "                curString = prevString + num*curString\n",
        "            elif c.isdigit():     # curNum*10+int(c) is helpful in keep track of more than 1 digit number\n",
        "                curNum = curNum*10 + int(c)\n",
        "            else:\n",
        "                curString += c\n",
        "        return curString"
      ],
      "metadata": {
        "id": "KPfXUKHtXZsV"
      },
      "execution_count": null,
      "outputs": []
    },
    {
      "cell_type": "code",
      "source": [
        "# Q8 Given two strings s and goal, return true if you can swap two letters in s so the result is equal to goal, otherwise, return false.\n",
        "\n",
        "class Solution:\n",
        "    def buddyStrings(self, s: str, g: str) -> bool:\n",
        "        l=Counter(s)\n",
        "        if(l!=Counter(g)):\n",
        "            return False\n",
        "        c=0\n",
        "        t=0\n",
        "        for i in l:\n",
        "            if(l[i]>1):\n",
        "                t=1\n",
        "                break\n",
        "        for i in range(len(s)):\n",
        "            if(s[i]!=g[i]):\n",
        "                c+=1\n",
        "                if(c>2):\n",
        "                    return False\n",
        "        if(c==0 and t!=1):\n",
        "            return False\n",
        "        return True"
      ],
      "metadata": {
        "id": "9WX5ZhC4XZui"
      },
      "execution_count": null,
      "outputs": []
    },
    {
      "cell_type": "code",
      "source": [],
      "metadata": {
        "id": "8c8hR3EhXZvi"
      },
      "execution_count": null,
      "outputs": []
    },
    {
      "cell_type": "code",
      "source": [],
      "metadata": {
        "id": "9SqQzrBzXZyg"
      },
      "execution_count": null,
      "outputs": []
    },
    {
      "cell_type": "code",
      "source": [],
      "metadata": {
        "id": "JI6PIfjCXZzw"
      },
      "execution_count": null,
      "outputs": []
    },
    {
      "cell_type": "code",
      "source": [],
      "metadata": {
        "id": "wU0VarHoXZ3G"
      },
      "execution_count": null,
      "outputs": []
    }
  ]
}