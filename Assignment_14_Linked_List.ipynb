{
  "nbformat": 4,
  "nbformat_minor": 0,
  "metadata": {
    "colab": {
      "provenance": []
    },
    "kernelspec": {
      "name": "python3",
      "display_name": "Python 3"
    },
    "language_info": {
      "name": "python"
    }
  },
  "cells": [
    {
      "cell_type": "markdown",
      "source": [
        "<aside>\n",
        "💡 **Question 1**\n",
        "\n",
        "Given a linked list of **N** nodes such that it may contain a loop.\n",
        "\n",
        "A loop here means that the last node of the link list is connected to the node at position X(1-based index). If the link list does not have any loop, X=0.\n",
        "\n",
        "Remove the loop from the linked list, if it is present, i.e. unlink the last node which is forming the loop.\n",
        "\n",
        "</aside>"
      ],
      "metadata": {
        "id": "qBpQkAwyMMAN"
      }
    },
    {
      "cell_type": "code",
      "source": [
        "def isIsomorphic(s, t):\n",
        "    if len(s) != len(t):\n",
        "        return False\n",
        "\n",
        "    mapping = {}  # Dictionary to store character mappings\n",
        "\n",
        "    for i in range(len(s)):\n",
        "        if s[i] in mapping:\n",
        "            if mapping[s[i]] != t[i]:\n",
        "                return False\n",
        "        else:\n",
        "            if t[i] in mapping.values():\n",
        "                return False\n",
        "            mapping[s[i]] = t[i]\n",
        "\n",
        "    return True\n",
        "s = \"egg\"\n",
        "t = \"add\"\n",
        "print(isIsomorphic(s, t))"
      ],
      "metadata": {
        "colab": {
          "base_uri": "https://localhost:8080/"
        },
        "id": "cTJYy7yzMOeV",
        "outputId": "a4c05f47-b32b-4b80-fb89-a8440c39743a"
      },
      "execution_count": 27,
      "outputs": [
        {
          "output_type": "stream",
          "name": "stdout",
          "text": [
            "True\n"
          ]
        }
      ]
    },
    {
      "cell_type": "code",
      "source": [],
      "metadata": {
        "id": "Qw4C-fXHMSHH"
      },
      "execution_count": null,
      "outputs": []
    },
    {
      "cell_type": "markdown",
      "source": [
        "<aside>\n",
        "💡 **uestion 2**\n",
        "\n",
        "A number **N** is represented in Linked List such that each digit corresponds to a node in linked list. You need to add 1 to it.\n",
        "\n",
        "</aside>"
      ],
      "metadata": {
        "id": "aFbE2-1IMSnm"
      }
    },
    {
      "cell_type": "code",
      "source": [
        "def isStrobogrammatic(num):\n",
        "    mapping = {'0': '0', '1': '1', '6': '9', '8': '8', '9': '6'}\n",
        "\n",
        "    left = 0\n",
        "    right = len(num) - 1\n",
        "\n",
        "    while left <= right:\n",
        "        if num[left] not in mapping or mapping[num[left]] != num[right]:\n",
        "            return False\n",
        "\n",
        "        left += 1\n",
        "        right -= 1\n",
        "\n",
        "    return True\n",
        "num = \"69\"\n",
        "print(isStrobogrammatic(num))"
      ],
      "metadata": {
        "colab": {
          "base_uri": "https://localhost:8080/"
        },
        "id": "h79N27olMWL_",
        "outputId": "fc6aa2d8-8d3d-4cf6-983a-b91c69130490"
      },
      "execution_count": 28,
      "outputs": [
        {
          "output_type": "stream",
          "name": "stdout",
          "text": [
            "True\n"
          ]
        }
      ]
    },
    {
      "cell_type": "code",
      "source": [],
      "metadata": {
        "id": "T8n5y92mMYhj"
      },
      "execution_count": null,
      "outputs": []
    },
    {
      "cell_type": "markdown",
      "source": [
        "<aside>\n",
        "💡 **Question 3**\n",
        "\n",
        "Given a Linked List of size N, where every node represents a sub-linked-list and contains two pointers:(i) a **next** pointer to the next node,(ii) a **bottom** pointer to a linked list where this node is head.Each of the sub-linked-list is in sorted order.Flatten the Link List such that all the nodes appear in a single level while maintaining the sorted order. **Note:** The flattened list will be printed using the bottom pointer instead of next pointer\n",
        "\n",
        "</aside>"
      ],
      "metadata": {
        "id": "4j3ijNP8MZHQ"
      }
    },
    {
      "cell_type": "code",
      "source": [
        "def addStrings(num1, num2):\n",
        "    i = len(num1) - 1\n",
        "    j = len(num2) - 1\n",
        "    carry = 0\n",
        "    result = \"\"\n",
        "\n",
        "    while i >= 0 or j >= 0 or carry > 0:\n",
        "        digit1 = int(num1[i]) if i >= 0 else 0\n",
        "        digit2 = int(num2[j]) if j >= 0 else 0\n",
        "\n",
        "        current_sum = digit1 + digit2 + carry\n",
        "        carry = current_sum // 10\n",
        "        digit_sum = current_sum % 10\n",
        "\n",
        "        result = str(digit_sum) + result\n",
        "\n",
        "        i -= 1\n",
        "        j -= 1\n",
        "\n",
        "    return result\n",
        "num1 = \"11\"\n",
        "num2 = \"123\"\n",
        "print(addStrings(num1, num2))"
      ],
      "metadata": {
        "colab": {
          "base_uri": "https://localhost:8080/"
        },
        "id": "TQnqGmkyMcCm",
        "outputId": "6dbb69eb-ca0d-4d2a-cdde-6ce041af8295"
      },
      "execution_count": 29,
      "outputs": [
        {
          "output_type": "stream",
          "name": "stdout",
          "text": [
            "134\n"
          ]
        }
      ]
    },
    {
      "cell_type": "code",
      "source": [],
      "metadata": {
        "id": "MYEGo8cAMfX-"
      },
      "execution_count": null,
      "outputs": []
    }
  ]
}