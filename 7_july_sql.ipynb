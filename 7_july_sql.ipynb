1. Write an SQL query to retrieve the names and email addresses of all employees from a table named "Employees".
--> select names, email from Employees; 

2. Write an SQL query to filter records from a table named "Customers" where the "City" column is 'New York'.
--> select * from Customers where City = "New York";

3. Write an SQL query to sort records in descending order based on the "DateOfBirth" column in a table named "Users".
--> select * from Users order by DateOfBirth Desc;

4. Write an SQL query to sort records in ascending order based on the "RegistrationDate" column in a table named "Users".
--> select * from Users order by RegistrationDate;

5. Write an SQL query to find the employee with the highest salary from a table named "Employees" and display their name, position, and salary.
--> select name,poistion,salary from Employees where salary in (select max(salary) from Employees);

6. Write an SQL query to retrieve records from a table named "Customers" where the "Phone" column matches the pattern '+1-XXX-XXX-XXXX'.
--> select * from Customers where Phone like '*+1[^0-9][^0-9][^0-9]'

7. Write an SQL query to retrieve the top 5 customers with the highest total purchase amount from a table named "Orders" and display their names and total purchase amounts.
--> select names, total_purchase_amounts from Orders order by total_purchase_amount desc limit 5;

8. Write an SQL query to calculate the percentage of sales for each product category in a table named "Sales" and display the category name, total sales amount, and 
the percentage of total sales. 
--> 

9. Write an SQL query to find the customers who have made the highest total purchases across all years from a table named "Orders" and display their names, 
email addresses, and the total purchase amount.
--> 
