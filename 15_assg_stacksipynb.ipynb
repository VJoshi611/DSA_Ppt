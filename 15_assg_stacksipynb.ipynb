{
  "nbformat": 4,
  "nbformat_minor": 0,
  "metadata": {
    "colab": {
      "provenance": []
    },
    "kernelspec": {
      "name": "python3",
      "display_name": "Python 3"
    },
    "language_info": {
      "name": "python"
    }
  },
  "cells": [
    {
      "cell_type": "markdown",
      "source": [
        "Q1] Given an array **arr[ ]** of size **N** having elements, the task is to find the next greater element for each element of the array in order of their appearance in the array.Next greater element of an element in the array is the nearest element on the right which is greater than the current element.If there does not exist next greater of current element, then next greater element for current element is -1. For example, next greater of the last element is always -1.\n",
        "\n",
        "**Example 1:**\n",
        "Input:\n",
        "N = 4, arr[] = [1 3 2 4]\n",
        "Output:\n",
        "3 4 4 -1\n",
        "Explanation:\n",
        "In the array, the next larger element\n",
        "to 1 is 3 , 3 is 4 , 2 is 4 and for 4 ?\n",
        "since it doesn't exist, it is -1.\n"
      ],
      "metadata": {
        "id": "x2pF30CWhcYZ"
      }
    },
    {
      "cell_type": "code",
      "source": [
        "def nextGreaterElement(self, nums1: List[int], nums2: List[int]) -> List[int]:\n",
        "\tif not nums2:\n",
        "\t\treturn None\n",
        "\n",
        "\tmapping = {}\n",
        "\tresult = []\n",
        "\tstack = []\n",
        "\tstack.append(nums2[0])\n",
        "\n",
        "\tfor i in range(1, len(nums2)):\n",
        "\t\twhile stack and nums2[i] > stack[-1]:\n",
        "\t\t\tmapping[stack[-1]] = nums2[i]\n",
        "\t\t\tstack.pop()\n",
        "\t\tstack.append(nums2[i])\n",
        "\n",
        "\tfor element in stack:\n",
        "\t\tmapping[element] = -1\n",
        "\n",
        "\tfor i in range(len(nums1)):\n",
        "\t\tresult.append(mapping[nums1[i]])\n",
        "\treturn result"
      ],
      "metadata": {
        "id": "g5ZKFQAHg7LW"
      },
      "execution_count": null,
      "outputs": []
    },
    {
      "cell_type": "markdown",
      "source": [
        "2] Given an array **a** of integers of length **n**, find the nearest smaller number for every element such that the smaller element is on left side.\n",
        "If no small element present on the left print -1.\n"
      ],
      "metadata": {
        "id": "HfRHgQPYiAxS"
      }
    },
    {
      "cell_type": "code",
      "source": [
        "class Solution:\n",
        "    def leftSmaller(self, n, a):\n",
        "\n",
        "        st = []\n",
        "        ans = [None]*n\n",
        "\n",
        "        for i in range(n):\n",
        "            if st == []:\n",
        "                ans[i] = -1\n",
        "            else:\n",
        "                while st != [] and st[-1] >= a[i]:\n",
        "                    st.pop()\n",
        "                if st == []:\n",
        "                    ans[i] = -1\n",
        "                else:\n",
        "                    ans[i] = st[-1]\n",
        "            st.append(a[i])\n",
        "        return ans\n"
      ],
      "metadata": {
        "id": "X5qKyScsg7Pi"
      },
      "execution_count": null,
      "outputs": []
    },
    {
      "cell_type": "markdown",
      "source": [
        "3] Implement a Stack using two queues q1 and q2."
      ],
      "metadata": {
        "id": "_45MW4Y8jMah"
      }
    },
    {
      "cell_type": "code",
      "source": [
        "class MyStack:\n",
        "\n",
        "    def __init__(self):\n",
        "        self.queue = deque()\n",
        "\n",
        "    def push(self, x: int) -> None:\n",
        "        size = len(self.queue)\n",
        "        self.queue.append(x)\n",
        "        while size:\n",
        "            self.queue.append(self.top())\n",
        "            self.queue.popleft()\n",
        "            size-=1\n",
        "\n",
        "    def pop(self) -> int:\n",
        "        return self.queue.popleft()\n",
        "\n",
        "    def top(self) -> int:\n",
        "        return self.queue[0]\n",
        "\n",
        "    def empty(self) -> bool:\n",
        "        return len(self.queue) == 0\n",
        "\n",
        "\n",
        "# Your MyStack object will be instantiated and called as such:\n",
        "# obj = MyStack()\n",
        "# obj.push(x)\n",
        "# param_2 = obj.pop()\n",
        "# param_3 = obj.top()\n",
        "# param_4 = obj.empty()"
      ],
      "metadata": {
        "id": "LAKvSLmAg7Tu"
      },
      "execution_count": null,
      "outputs": []
    },
    {
      "cell_type": "code",
      "source": [],
      "metadata": {
        "id": "PvdMMooFg7VC"
      },
      "execution_count": null,
      "outputs": []
    },
    {
      "cell_type": "markdown",
      "source": [
        "4] You are given a stack **St**. You have to reverse the stack using recursion.\n"
      ],
      "metadata": {
        "id": "qCKrz5a-jmDT"
      }
    },
    {
      "cell_type": "code",
      "source": [
        "def insertAtBottom(stack, item):\n",
        "\tif isEmpty(stack):\n",
        "\t\tpush(stack, item)\n",
        "\telse:\n",
        "\t\ttemp = pop(stack)\n",
        "\t\tinsertAtBottom(stack, item)\n",
        "\t\tpush(stack, temp)\n",
        "\n",
        "\n",
        "def reverse(stack):\n",
        "\tif not isEmpty(stack):\n",
        "\t\ttemp = pop(stack)\n",
        "\t\treverse(stack)\n",
        "\t\tinsertAtBottom(stack, temp)\n",
        "\n",
        "\n",
        "def createStack():\n",
        "\tstack = []\n",
        "\treturn stack\n",
        "\n",
        "\n",
        "def isEmpty(stack):\n",
        "\treturn len(stack) == 0\n",
        "\n",
        "\n",
        "def push(stack, item):\n",
        "\tstack.append(item)\n",
        "\n",
        "\n",
        "def pop(stack):\n",
        "\n",
        "\tif(isEmpty(stack)):\n",
        "\t\tprint(\"Stack Underflow \")\n",
        "\t\texit(1)\n",
        "\n",
        "\treturn stack.pop()\n",
        "\n",
        "\n",
        "def prints(stack):\n",
        "\tfor i in range(len(stack)-1, -1, -1):\n",
        "\t\tprint(stack[i], end=' ')\n",
        "\tprint()\n",
        "\n",
        "stack = createStack()\n",
        "push(stack, str(4))\n",
        "push(stack, str(3))\n",
        "push(stack, str(2))\n",
        "push(stack, str(1))\n",
        "print(\"Original Stack \")\n",
        "prints(stack)\n",
        "\n",
        "reverse(stack)\n",
        "\n",
        "print(\"Reversed Stack \")\n",
        "prints(stack)\n",
        "\n"
      ],
      "metadata": {
        "colab": {
          "base_uri": "https://localhost:8080/"
        },
        "id": "1dRRv04kg7YF",
        "outputId": "a5e32b02-a9fd-47da-9f3c-01995c6ccb60"
      },
      "execution_count": 1,
      "outputs": [
        {
          "output_type": "stream",
          "name": "stdout",
          "text": [
            "Original Stack \n",
            "1 2 3 4 \n",
            "Reversed Stack \n",
            "4 3 2 1 \n"
          ]
        }
      ]
    },
    {
      "cell_type": "markdown",
      "source": [
        "5] You are given a string S, the task is to reverse the string using stack."
      ],
      "metadata": {
        "id": "DTACdBk8kOjC"
      }
    },
    {
      "cell_type": "code",
      "source": [
        "def swap(s, i, j):\n",
        "    temp = s[i]\n",
        "    s[i] = s[j]\n",
        "    s[j] = temp\n",
        "\n",
        "def reverse(s, i=0, j=0):\n",
        "\n",
        "    if j == len(s):\n",
        "        return i\n",
        "\n",
        "    i = reverse(s, i, j + 1)\n",
        "\n",
        "    if i <= j:\n",
        "        swap(s, i, j)\n",
        "        i += 1\n",
        "\n",
        "    return i\n",
        "\n",
        "\n",
        "\n",
        "s = 'Reverse'\n",
        "\n",
        "chars = [*s]\n",
        "reverse(chars)\n",
        "s = ''.join(chars)\n",
        "\n",
        "print(s)\n",
        "\n"
      ],
      "metadata": {
        "colab": {
          "base_uri": "https://localhost:8080/"
        },
        "id": "gL2JPfEbg7bR",
        "outputId": "ff9d43f2-5542-4b13-a33d-70345255e701"
      },
      "execution_count": 3,
      "outputs": [
        {
          "output_type": "stream",
          "name": "stdout",
          "text": [
            "esreveR\n"
          ]
        }
      ]
    },
    {
      "cell_type": "markdown",
      "source": [
        "**Question 6**\n",
        "\n",
        "Given string **S** representing a postfix expression, the task is to evaluate the expression and find the final value. Operators will only include the basic arithmetic operators like ***, /, + and -**."
      ],
      "metadata": {
        "id": "CsrbTorxkuit"
      }
    },
    {
      "cell_type": "code",
      "source": [
        "class Evaluate:\n",
        "\tdef __init__(self, capacity):\n",
        "\t\tself.top = -1\n",
        "\t\tself.capacity = capacity\n",
        "\n",
        "\t\tself.array = []\n",
        "\n",
        "\tdef isEmpty(self):\n",
        "\t\treturn True if self.top == -1 else False\n",
        "\n",
        "\tdef peek(self):\n",
        "\t\treturn self.array[-1]\n",
        "\n",
        "\tdef pop(self):\n",
        "\t\tif not self.isEmpty():\n",
        "\t\t\tself.top -= 1\n",
        "\t\t\treturn self.array.pop()\n",
        "\t\telse:\n",
        "\t\t\treturn \"$\"\n",
        "\n",
        "\tdef push(self, op):\n",
        "\t\tself.top += 1\n",
        "\t\tself.array.append(op)\n",
        "\n",
        "\tdef evaluatePostfix(self, exp):\n",
        "\n",
        "\t\tfor i in exp:\n",
        "\t\t\tif i.isdigit():\n",
        "\t\t\t\tself.push(i)\n",
        "\n",
        "\t\t\telse:\n",
        "\t\t\t\tval1 = self.pop()\n",
        "\t\t\t\tval2 = self.pop()\n",
        "\t\t\t\tself.push(str(eval(val2 + i + val1)))\n",
        "\n",
        "\t\treturn int(self.pop())\n",
        "\n",
        "\n",
        "\n",
        "exp = \"231*+9-\"\n",
        "obj = Evaluate(len(exp))\n",
        "\n",
        "print(\"postfix evaluation: %d\" % (obj.evaluatePostfix(exp)))\n"
      ],
      "metadata": {
        "colab": {
          "base_uri": "https://localhost:8080/"
        },
        "id": "y-eLxTukg7gh",
        "outputId": "b2db9549-4a3e-492b-aab7-1b353ac7e9d6"
      },
      "execution_count": 4,
      "outputs": [
        {
          "output_type": "stream",
          "name": "stdout",
          "text": [
            "postfix evaluation: -4\n"
          ]
        }
      ]
    },
    {
      "cell_type": "markdown",
      "source": [
        "**Question 7**\n",
        "Design a stack that supports push, pop, top, and retrieving the minimum element in constant time.\n",
        "Implement the `MinStack` class:\n"
      ],
      "metadata": {
        "id": "12FXcqvZlYNp"
      }
    },
    {
      "cell_type": "code",
      "source": [
        "class MinStack:\n",
        "    def __init__(self):\n",
        "        self.stack = []\n",
        "        self.minimums = deque()\n",
        "\n",
        "    def push(self, val: int) -> None:\n",
        "        self.stack.append(val)\n",
        "\n",
        "        if self.minimums and val <= self.minimums[0]:\n",
        "            self.minimums.appendleft(val)\n",
        "            return\n",
        "        self.minimums.append(val)\n",
        "\n",
        "    def pop(self) -> None:\n",
        "        val = self.stack.pop()\n",
        "        if self.minimums[0] == val:\n",
        "            self.minimums.popleft()\n",
        "            return\n",
        "        self.minimums.pop()\n",
        "\n",
        "    def top(self) -> int:\n",
        "        return self.stack[-1]\n",
        "\n",
        "    def getMin(self) -> int:\n",
        "        return min(self.minimums[0], self.minimums[-1])\n",
        "\n"
      ],
      "metadata": {
        "id": "_p1V97YIlZ8g"
      },
      "execution_count": null,
      "outputs": []
    },
    {
      "cell_type": "markdown",
      "source": [
        "**Question 8**\n",
        "\n",
        "Given `n` non-negative integers representing an elevation map where the width of each bar is `1`, compute how much water it can trap after raining.\n"
      ],
      "metadata": {
        "id": "mwQsByiDlo6N"
      }
    },
    {
      "cell_type": "code",
      "source": [
        "class Solution:\n",
        "\tdef trap(self, height: List[int]) -> int:\n",
        "\n",
        "\t\tlength = len(height)\n",
        "\n",
        "\t\tleft = [0] * length\n",
        "\t\tright = [0] * length\n",
        "\n",
        "\t\tleft[0] = height[0]\n",
        "\t\tright[-1] = height[-1]\n",
        "\n",
        "\t\tstart = 0\n",
        "\t\twhile start < length:\n",
        "\t\t\tleft[start] = max(left[start - 1], height[start])\n",
        "\t\t\tstart = start + 1\n",
        "\n",
        "\t\tend = length - 2\n",
        "\t\twhile end > -1:\n",
        "\t\t\tright[end] = max(right[end + 1], height[end])\n",
        "\t\t\tend = end - 1\n",
        "\n",
        "\t\tresult = 0\n",
        "\n",
        "\t\tfor index in range(length):\n",
        "\t\t\tresult = result + min(left[index], right[index]) - height[index]\n",
        "\n",
        "\t\treturn result\n",
        ""
      ],
      "metadata": {
        "id": "hI1kePinlqEY"
      },
      "execution_count": null,
      "outputs": []
    }
  ]
}