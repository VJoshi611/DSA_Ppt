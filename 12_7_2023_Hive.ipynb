{
  "nbformat": 4,
  "nbformat_minor": 0,
  "metadata": {
    "colab": {
      "provenance": []
    },
    "kernelspec": {
      "name": "python3",
      "display_name": "Python 3"
    },
    "language_info": {
      "name": "python"
    }
  },
  "cells": [
    {
      "cell_type": "code",
      "execution_count": null,
      "metadata": {
        "id": "nA22T8kQEz7_"
      },
      "outputs": [],
      "source": []
    },
    {
      "cell_type": "markdown",
      "source": [
        "1.  Write a Python program that uses the HiveQL language to create a table named \"Employees\" with columns for \"id,\" \"name,\" and \"salary.\"\n"
      ],
      "metadata": {
        "id": "PUbf7IW9JCrl"
      }
    },
    {
      "cell_type": "code",
      "source": [
        "from pyhive import hive\n",
        "\n",
        "def create_employees_table(host, port, database):\n",
        "    # Establish a connection to Hive\n",
        "    connection = hive.connect(host=host, port=port, database=database)\n",
        "\n",
        "    # Create a cursor to execute Hive queries\n",
        "    cursor = connection.cursor()\n",
        "\n",
        "    # HiveQL query to create the Employees table\n",
        "    create_table_query = \"\"\"\n",
        "        CREATE TABLE IF NOT EXISTS Employees (\n",
        "            id INT,\n",
        "            name STRING,\n",
        "            salary FLOAT\n",
        "        )\n",
        "    \"\"\"\n",
        "\n",
        "    # Execute the query to create the table\n",
        "    cursor.execute(create_table_query)\n",
        "\n",
        "    # Close the cursor and the connection\n",
        "    cursor.close()\n",
        "    connection.close()\n",
        "\n",
        "# Hive connection details\n",
        "hive_host = \"your_hive_host\"\n",
        "hive_port = 10000  # Default port for HiveServer2\n",
        "hive_database = \"your_hive_database\"\n",
        "\n",
        "# Call the function to create the Employees table\n",
        "create_employees_table(hive_host, hive_port, hive_database)\n"
      ],
      "metadata": {
        "id": "tNuWAKx9JBH9"
      },
      "execution_count": null,
      "outputs": []
    },
    {
      "cell_type": "markdown",
      "source": [
        "2.  Create a Python program that retrieves records from a Hive table named \"Customers\" where the age is greater than 30.\n"
      ],
      "metadata": {
        "id": "KIxPkqqRJMZe"
      }
    },
    {
      "cell_type": "code",
      "source": [
        "from pyhive import hive\n",
        "\n",
        "def retrieve_customers_greater_than_30(host, port, database):\n",
        "    # Establish a connection to Hive\n",
        "    connection = hive.connect(host=host, port=port, database=database)\n",
        "\n",
        "    # Create a cursor to execute Hive queries\n",
        "    cursor = connection.cursor()\n",
        "\n",
        "    # HiveQL query to retrieve records from the Customers table where age > 30\n",
        "    retrieve_query = \"\"\"\n",
        "        SELECT *\n",
        "        FROM Customers\n",
        "        WHERE age > 30\n",
        "    \"\"\"\n",
        "\n",
        "    # Execute the query to retrieve records\n",
        "    cursor.execute(retrieve_query)\n",
        "\n",
        "    # Fetch all the records\n",
        "    records = cursor.fetchall()\n",
        "\n",
        "    # Print the retrieved records\n",
        "    for record in records:\n",
        "        print(record)\n",
        "\n",
        "    # Close the cursor and the connection\n",
        "    cursor.close()\n",
        "    connection.close()\n",
        "\n",
        "# Hive connection details\n",
        "hive_host = \"your_hive_host\"\n",
        "hive_port = 10000  # Default port for HiveServer2\n",
        "hive_database = \"your_hive_database\"\n",
        "\n",
        "# Call the function to retrieve records from the Customers table\n",
        "retrieve_customers_greater_than_30(hive_host, hive_port, hive_database)\n"
      ],
      "metadata": {
        "id": "GhiN8vXMJM_6"
      },
      "execution_count": null,
      "outputs": []
    },
    {
      "cell_type": "markdown",
      "source": [
        "3.  Write a Python script that sorts records in descending order based on the \"timestamp\" column in a Hive table named \"Logs.\"\n"
      ],
      "metadata": {
        "id": "yr0vJEkXJYTl"
      }
    },
    {
      "cell_type": "code",
      "source": [
        "from pyhive import hive\n",
        "\n",
        "def sort_logs_by_timestamp(host, port, database):\n",
        "    # Establish a connection to Hive\n",
        "    connection = hive.connect(host=host, port=port, database=database)\n",
        "\n",
        "    # Create a cursor to execute Hive queries\n",
        "    cursor = connection.cursor()\n",
        "\n",
        "    # HiveQL query to sort records in descending order based on timestamp\n",
        "    sort_query = \"\"\"\n",
        "        SELECT *\n",
        "        FROM Logs\n",
        "        ORDER BY timestamp DESC\n",
        "    \"\"\"\n",
        "\n",
        "    # Execute the query to sort records\n",
        "    cursor.execute(sort_query)\n",
        "\n",
        "    # Fetch all the sorted records\n",
        "    sorted_records = cursor.fetchall()\n",
        "\n",
        "    # Print the sorted records\n",
        "    for record in sorted_records:\n",
        "        print(record)\n",
        "\n",
        "    # Close the cursor and the connection\n",
        "    cursor.close()\n",
        "    connection.close()\n",
        "\n",
        "# Hive connection details\n",
        "hive_host = \"your_hive_host\"\n",
        "hive_port = 10000  # Default port for HiveServer2\n",
        "hive_database = \"your_hive_database\"\n",
        "\n",
        "# Call the function to sort records in the Logs table by timestamp\n",
        "sort_logs_by_timestamp(hive_host, hive_port, hive_database)\n"
      ],
      "metadata": {
        "id": "ilycVSDhJbUb"
      },
      "execution_count": null,
      "outputs": []
    },
    {
      "cell_type": "markdown",
      "source": [
        "4.  Write a Python program that connects to a Hive server using PyHive library and retrieves all records from a table named \"Products\".\n"
      ],
      "metadata": {
        "id": "4nlRPxzwJlW_"
      }
    },
    {
      "cell_type": "code",
      "source": [
        "from pyhive import hive\n",
        "\n",
        "def retrieve_all_products(host, port, database):\n",
        "    # Establish a connection to Hive\n",
        "    connection = hive.connect(host=host, port=port, database=database)\n",
        "\n",
        "    # Create a cursor to execute Hive queries\n",
        "    cursor = connection.cursor()\n",
        "\n",
        "    # HiveQL query to retrieve all records from the Products table\n",
        "    retrieve_query = \"\"\"\n",
        "        SELECT *\n",
        "        FROM Products\n",
        "    \"\"\"\n",
        "\n",
        "    # Execute the query to retrieve all records\n",
        "    cursor.execute(retrieve_query)\n",
        "\n",
        "    # Fetch all the records\n",
        "    records = cursor.fetchall()\n",
        "\n",
        "    # Print the retrieved records\n",
        "    for record in records:\n",
        "        print(record)\n",
        "\n",
        "    # Close the cursor and the connection\n",
        "    cursor.close()\n",
        "    connection.close()\n",
        "\n",
        "# Hive connection details\n",
        "hive_host = \"your_hive_host\"\n",
        "hive_port = 10000  # Default port for HiveServer2\n",
        "hive_database = \"your_hive_database\"\n",
        "\n",
        "# Call the function to retrieve all records from the Products table\n",
        "retrieve_all_products(hive_host, hive_port, hive_database)\n"
      ],
      "metadata": {
        "id": "YCn5FuBeJnSw"
      },
      "execution_count": null,
      "outputs": []
    },
    {
      "cell_type": "markdown",
      "source": [
        "5.  Write a Python script that calculates the average salary of employees from a Hive table named \"Employees\".\n"
      ],
      "metadata": {
        "id": "ObYqNu5DJuDx"
      }
    },
    {
      "cell_type": "code",
      "source": [
        "from pyhive import hive\n",
        "\n",
        "def calculate_average_salary(host, port, database):\n",
        "    # Establish a connection to Hive\n",
        "    connection = hive.connect(host=host, port=port, database=database)\n",
        "\n",
        "    # Create a cursor to execute Hive queries\n",
        "    cursor = connection.cursor()\n",
        "\n",
        "    # HiveQL query to calculate the average salary from the Employees table\n",
        "    average_salary_query = \"\"\"\n",
        "        SELECT AVG(salary) AS avg_salary\n",
        "        FROM Employees\n",
        "    \"\"\"\n",
        "\n",
        "    # Execute the query to calculate the average salary\n",
        "    cursor.execute(average_salary_query)\n",
        "\n",
        "    # Fetch the result\n",
        "    result = cursor.fetchone()\n",
        "\n",
        "    # Get the average salary from the result\n",
        "    average_salary = result[0]\n",
        "\n",
        "    # Print the average salary\n",
        "    print(\"Average Salary: \", average_salary)\n",
        "\n",
        "    # Close the cursor and the connection\n",
        "    cursor.close()\n",
        "    connection.close()\n",
        "\n",
        "# Hive connection details\n",
        "hive_host = \"your_hive_host\"\n",
        "hive_port = 10000  # Default port for HiveServer2\n",
        "hive_database = \"your_hive_database\"\n",
        "\n",
        "# Call the function to calculate the average salary from the Employees table\n",
        "calculate_average_salary(hive_host, hive_port, hive_database)\n"
      ],
      "metadata": {
        "id": "Lshcb9E0JwVb"
      },
      "execution_count": null,
      "outputs": []
    },
    {
      "cell_type": "markdown",
      "source": [
        "6.  Implement a Python program that uses Hive partitioning to create a partitioned table named \"Sales_Data\" based on the \"year\" and \"month\" columns.\n"
      ],
      "metadata": {
        "id": "wBx4QTtUJ41j"
      }
    },
    {
      "cell_type": "code",
      "source": [
        "from pyhive import hive\n",
        "\n",
        "def create_partitioned_table(host, port, database):\n",
        "    # Establish a connection to Hive\n",
        "    connection = hive.connect(host=host, port=port, database=database)\n",
        "\n",
        "    # Create a cursor to execute Hive queries\n",
        "    cursor = connection.cursor()\n",
        "\n",
        "    # HiveQL query to create a partitioned table named \"Sales_Data\"\n",
        "    create_table_query = \"\"\"\n",
        "        CREATE TABLE IF NOT EXISTS Sales_Data (\n",
        "            id INT,\n",
        "            product STRING,\n",
        "            sales FLOAT\n",
        "        )\n",
        "        PARTITIONED BY (year INT, month INT)\n",
        "    \"\"\"\n",
        "\n",
        "    # Execute the query to create the partitioned table\n",
        "    cursor.execute(create_table_query)\n",
        "\n",
        "    # Close the cursor and the connection\n",
        "    cursor.close()\n",
        "    connection.close()\n",
        "\n",
        "# Hive connection details\n",
        "hive_host = \"your_hive_host\"\n",
        "hive_port = 10000  # Default port for HiveServer2\n",
        "hive_database = \"your_hive_database\"\n",
        "\n",
        "# Call the function to create the partitioned table\n",
        "create_partitioned_table(hive_host, hive_port, hive_database)\n"
      ],
      "metadata": {
        "id": "K6I2u7o-J7W3"
      },
      "execution_count": null,
      "outputs": []
    }
  ]
}