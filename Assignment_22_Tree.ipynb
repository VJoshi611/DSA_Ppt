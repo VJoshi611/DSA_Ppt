{
  "nbformat": 4,
  "nbformat_minor": 0,
  "metadata": {
    "colab": {
      "provenance": []
    },
    "kernelspec": {
      "name": "python3",
      "display_name": "Python 3"
    },
    "language_info": {
      "name": "python"
    }
  },
  "cells": [
    {
      "cell_type": "markdown",
      "source": [
        "<aside>\n",
        "💡 Question-1:\n",
        "\n",
        "Given a Binary Tree (Bt), convert it to a Doubly Linked List(DLL). The left and right pointers in nodes are to be used as previous and next pointers respectively in converted DLL. The order of nodes in DLL must be the same as in Inorder for the given Binary Tree. The first node of Inorder traversal (leftmost node in BT) must be the head node of the DLL.\n",
        "\n",
        "</aside>"
      ],
      "metadata": {
        "id": "818omyf5P8nA"
      }
    },
    {
      "cell_type": "code",
      "source": [
        "class TreeNode:\n",
        "    def __init__(self, value):\n",
        "        self.value = value\n",
        "        self.left = None\n",
        "        self.right = None\n",
        "\n",
        "\n",
        "def convert_bt_to_dll(root):\n",
        "    if root is None:\n",
        "        return None\n",
        "\n",
        "    def inorder(node):\n",
        "        nonlocal prev, head\n",
        "\n",
        "        if node is None:\n",
        "            return\n",
        "\n",
        "        # Traverse left subtree\n",
        "        inorder(node.left)\n",
        "\n",
        "        # Adjust pointers\n",
        "        if prev is None:\n",
        "            head = node  # First node in inorder traversal becomes the head\n",
        "        else:\n",
        "            node.left = prev\n",
        "            prev.right = node\n",
        "\n",
        "        prev = node\n",
        "\n",
        "        # Traverse right subtree\n",
        "        inorder(node.right)\n",
        "\n",
        "    prev = None  # Track the previously visited node\n",
        "    head = None  # Head of the DLL\n",
        "\n",
        "    inorder(root)\n",
        "\n",
        "    # Adjust the pointers of the head and tail of the DLL\n",
        "    head.left = None\n",
        "    prev.right = None\n",
        "\n",
        "    return head\n",
        "\n",
        "\n",
        "# Test the function with an example\n",
        "root = TreeNode(10)\n",
        "root.left = TreeNode(12)\n",
        "root.right = TreeNode(15)\n",
        "root.left.left = TreeNode(25)\n",
        "root.left.right = TreeNode(30)\n",
        "root.right.left = TreeNode(36)\n",
        "\n",
        "print(\"Input:\")\n",
        "print(\"         10\")\n",
        "print(\"        /   \\\\\")\n",
        "print(\"      12    15\")\n",
        "print(\"     / \\\\\")\n",
        "print(\"   25  30\")\n",
        "print(\"        \\\\\")\n",
        "print(\"        36\")\n",
        "\n",
        "dll_head = convert_bt_to_dll(root)\n",
        "\n",
        "print(\"Output (Inorder traversal of DLL):\")\n",
        "node = dll_head\n",
        "while node:\n",
        "    print(node.value, end=\" \")\n",
        "    node = node.right"
      ],
      "metadata": {
        "colab": {
          "base_uri": "https://localhost:8080/"
        },
        "id": "7LEsWH5OQAl-",
        "outputId": "94bb6d12-ccde-4bf6-bedf-d98eb12c7cca"
      },
      "execution_count": 37,
      "outputs": [
        {
          "output_type": "stream",
          "name": "stdout",
          "text": [
            "Input:\n",
            "         10\n",
            "        /   \\\n",
            "      12    15\n",
            "     / \\\n",
            "   25  30\n",
            "        \\\n",
            "        36\n",
            "Output (Inorder traversal of DLL):\n",
            "25 12 30 10 36 15 "
          ]
        }
      ]
    },
    {
      "cell_type": "code",
      "source": [],
      "metadata": {
        "id": "1Zu41flGQJ1p"
      },
      "execution_count": null,
      "outputs": []
    },
    {
      "cell_type": "markdown",
      "source": [
        "<aside>\n",
        "💡 Question-2\n",
        "\n",
        "A Given a binary tree, the task is to flip the binary tree towards the right direction that is clockwise. See the below examples to see the transformation.\n",
        "\n",
        "In the flip operation, the leftmost node becomes the root of the flipped tree and its parent becomes its right child and the right sibling becomes its left child and the same should be done for all left most nodes recursively.\n",
        "\n",
        "</aside>"
      ],
      "metadata": {
        "id": "YvK-83NOQKYR"
      }
    },
    {
      "cell_type": "code",
      "source": [
        "class TreeNode:\n",
        "    def __init__(self, value):\n",
        "        self.value = value\n",
        "        self.left = None\n",
        "        self.right = None\n",
        "\n",
        "\n",
        "def flip_binary_tree(root):\n",
        "    if root is None:\n",
        "        return None\n",
        "\n",
        "    if root.left is None and root.right is None:\n",
        "        return root\n",
        "\n",
        "    flipped_root = flip_binary_tree(root.left)\n",
        "\n",
        "    root.left.left = root.right\n",
        "    root.left.right = root\n",
        "\n",
        "    root.left = None\n",
        "    root.right = None\n",
        "\n",
        "    return flipped_root\n",
        "\n",
        "\n",
        "# Helper function to print the binary tree\n",
        "def print_binary_tree(root):\n",
        "    if root is None:\n",
        "        return\n",
        "\n",
        "    print(root.value, end=\" \")\n",
        "    print_binary_tree(root.left)\n",
        "    print_binary_tree(root.right)\n",
        "\n",
        "# Test the function with an example\n",
        "root = TreeNode(1)\n",
        "root.left = TreeNode(2)\n",
        "root.right = TreeNode(3)\n",
        "root.left.left = TreeNode(4)\n",
        "root.left.right = TreeNode(5)\n",
        "\n",
        "print(\"Input:\")\n",
        "print(\"     1\")\n",
        "print(\"   /   \\\\\")\n",
        "print(\"  2     3\")\n",
        "print(\" / \\\\\")\n",
        "print(\"4   5\")\n",
        "\n",
        "flipped_root = flip_binary_tree(root)\n",
        "\n",
        "print(\"Output:\")\n",
        "print_binary_tree(flipped_root)"
      ],
      "metadata": {
        "colab": {
          "base_uri": "https://localhost:8080/"
        },
        "id": "4mIijVdYQNMC",
        "outputId": "c737ea3c-0863-42ab-fc16-313abe3da5e5"
      },
      "execution_count": 38,
      "outputs": [
        {
          "output_type": "stream",
          "name": "stdout",
          "text": [
            "Input:\n",
            "     1\n",
            "   /   \\\n",
            "  2     3\n",
            " / \\\n",
            "4   5\n",
            "Output:\n",
            "4 5 2 3 1 "
          ]
        }
      ]
    },
    {
      "cell_type": "code",
      "source": [],
      "metadata": {
        "id": "zpTsYKaVQTyC"
      },
      "execution_count": null,
      "outputs": []
    },
    {
      "cell_type": "markdown",
      "source": [
        "<aside>\n",
        "💡 Question-3:\n",
        "\n",
        "Given a binary tree, print all its root-to-leaf paths without using recursion. For example, consider the following Binary Tree.\n",
        "\n",
        "Input:\n",
        "\n",
        "        6\n",
        "     /    \\\n",
        "    3      5\n",
        "  /   \\     \\\n",
        " 2     5     4\n",
        "     /   \\\n",
        "    7     4\n",
        "\n",
        "Output:\n",
        "\n",
        "There are 4 leaves, hence 4 root to leaf paths -\n",
        "  6->3->2\n",
        "  6->3->5->7\n",
        "  6->3->5->4\n",
        "  6->5>4\n",
        "\n",
        "</aside>"
      ],
      "metadata": {
        "id": "1fHfgphnQWm2"
      }
    },
    {
      "cell_type": "code",
      "source": [
        "class TreeNode:\n",
        "    def __init__(self, value):\n",
        "        self.value = value\n",
        "        self.left = None\n",
        "        self.right = None\n",
        "\n",
        "\n",
        "def print_root_to_leaf_paths(root):\n",
        "    if root is None:\n",
        "        return\n",
        "\n",
        "    stack = [(root, str(root.value))]\n",
        "\n",
        "    while stack:\n",
        "        node, path = stack.pop()\n",
        "\n",
        "        if node.left is None and node.right is None:\n",
        "            print(path)\n",
        "\n",
        "        if node.right:\n",
        "            stack.append((node.right, path + \"->\" + str(node.right.value)))\n",
        "\n",
        "        if node.left:\n",
        "            stack.append((node.left, path + \"->\" + str(node.left.value)))\n",
        "\n",
        "\n",
        "# Test the function with the given example\n",
        "root = TreeNode(6)\n",
        "root.left = TreeNode(3)\n",
        "root.right = TreeNode(5)\n",
        "root.left.left = TreeNode(2)\n",
        "root.left.right = TreeNode(5)\n",
        "root.right.right = TreeNode(4)\n",
        "root.left.right.left = TreeNode(7)\n",
        "root.left.right.right = TreeNode(4)\n",
        "\n",
        "print(\"Input:\")\n",
        "print(\"        6\")\n",
        "print(\"     /    \\\\\")\n",
        "print(\"    3      5\")\n",
        "print(\"  /   \\\\     \\\\\")\n",
        "print(\" 2     5     4\")\n",
        "print(\"     /   \\\\\")\n",
        "print(\"    7     4\")\n",
        "\n",
        "print(\"Output:\")\n",
        "print_root_to_leaf_paths(root)"
      ],
      "metadata": {
        "colab": {
          "base_uri": "https://localhost:8080/"
        },
        "id": "FbL6pRIzQXXf",
        "outputId": "503be09f-9d1b-4876-c1ed-4a3ac6b02aea"
      },
      "execution_count": 39,
      "outputs": [
        {
          "output_type": "stream",
          "name": "stdout",
          "text": [
            "Input:\n",
            "        6\n",
            "     /    \\\n",
            "    3      5\n",
            "  /   \\     \\\n",
            " 2     5     4\n",
            "     /   \\\n",
            "    7     4\n",
            "Output:\n",
            "6->3->2\n",
            "6->3->5->7\n",
            "6->3->5->4\n",
            "6->5->4\n"
          ]
        }
      ]
    },
    {
      "cell_type": "code",
      "source": [],
      "metadata": {
        "id": "MG8A1ONWQdSK"
      },
      "execution_count": null,
      "outputs": []
    },
    {
      "cell_type": "markdown",
      "source": [
        "<aside>\n",
        "💡 Question-4:\n",
        "\n",
        "Given Preorder, Inorder and Postorder traversals of some tree. Write a program to check if they all are of the same tree.\n",
        "\n",
        "**Examples:**\n",
        "\n",
        "Input :\n",
        "\n",
        "        Inorder -> 4 2 5 1 3\n",
        "        Preorder -> 1 2 4 5 3\n",
        "        Postorder -> 4 5 2 3 1\n",
        "Output :\n",
        "\n",
        "Yes\n",
        "Explanation :\n",
        "\n",
        "All of the above three traversals are of\n",
        "the same tree\n",
        "\n",
        "</aside>"
      ],
      "metadata": {
        "id": "_TRo3pqeQgEH"
      }
    },
    {
      "cell_type": "code",
      "source": [
        "def check_same_tree(preorder, inorder, postorder):\n",
        "    if len(preorder) != len(inorder) or len(inorder) != len(postorder):\n",
        "        return False\n",
        "\n",
        "    if len(preorder) == 0:\n",
        "        return True\n",
        "\n",
        "    root = preorder[0]\n",
        "    root_index = inorder.index(root)\n",
        "\n",
        "    left_inorder = inorder[:root_index]\n",
        "    right_inorder = inorder[root_index+1:]\n",
        "\n",
        "    left_preorder = preorder[1:root_index+1]\n",
        "    right_preorder = preorder[root_index+1:]\n",
        "\n",
        "    left_postorder = postorder[:root_index]\n",
        "    right_postorder = postorder[root_index:len(postorder)-1]\n",
        "\n",
        "    return (\n",
        "        check_same_tree(left_preorder, left_inorder, left_postorder) and\n",
        "        check_same_tree(right_preorder, right_inorder, right_postorder)\n",
        "    )\n",
        "\n",
        "\n",
        "# Test the function with the examples\n",
        "inorder1 = [4, 2, 5, 1, 3]\n",
        "preorder1 = [1, 2, 4, 5, 3]\n",
        "postorder1 = [4, 5, 2, 3, 1]\n",
        "\n",
        "inorder2 = [4, 2, 5, 1, 3]\n",
        "preorder2 = [1, 5, 4, 2, 3]\n",
        "postorder2 = [4, 1, 2, 3, 5]\n",
        "\n",
        "print(\"Input 1:\")\n",
        "print(\"Inorder:\", inorder1)\n",
        "print(\"Preorder:\", preorder1)\n",
        "print(\"Postorder:\", postorder1)\n",
        "print(\"Output:\", check_same_tree(preorder1, inorder1, postorder1))\n",
        "\n",
        "print(\"\\nInput 2:\")\n",
        "print(\"Inorder:\", inorder2)\n",
        "print(\"Preorder:\", preorder2)\n",
        "print(\"Postorder:\", postorder2)\n",
        "print(\"Output:\", check_same_tree(preorder2, inorder2, postorder2))"
      ],
      "metadata": {
        "colab": {
          "base_uri": "https://localhost:8080/"
        },
        "id": "HUzUTvS9QguI",
        "outputId": "5fb641b1-042b-4ae7-a008-0596d7ab80b7"
      },
      "execution_count": 40,
      "outputs": [
        {
          "output_type": "stream",
          "name": "stdout",
          "text": [
            "Input 1:\n",
            "Inorder: [4, 2, 5, 1, 3]\n",
            "Preorder: [1, 2, 4, 5, 3]\n",
            "Postorder: [4, 5, 2, 3, 1]\n",
            "Output: True\n",
            "\n",
            "Input 2:\n",
            "Inorder: [4, 2, 5, 1, 3]\n",
            "Preorder: [1, 5, 4, 2, 3]\n",
            "Postorder: [4, 1, 2, 3, 5]\n",
            "Output: True\n"
          ]
        }
      ]
    },
    {
      "cell_type": "code",
      "source": [],
      "metadata": {
        "id": "rVzIzbiOQlvQ"
      },
      "execution_count": null,
      "outputs": []
    }
  ]
}