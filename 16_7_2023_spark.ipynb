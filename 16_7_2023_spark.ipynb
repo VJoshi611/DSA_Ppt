{
  "nbformat": 4,
  "nbformat_minor": 0,
  "metadata": {
    "colab": {
      "provenance": []
    },
    "kernelspec": {
      "name": "python3",
      "display_name": "Python 3"
    },
    "language_info": {
      "name": "python"
    }
  },
  "cells": [
    {
      "cell_type": "code",
      "execution_count": null,
      "metadata": {
        "id": "nA22T8kQEz7_"
      },
      "outputs": [],
      "source": []
    },
    {
      "cell_type": "markdown",
      "source": [
        " a) Write a Python program to create an RDD from a local data source.\n",
        "   b) Implement transformations and actions on the RDD to perform data processing tasks.\n",
        "   c) Analyze and manipulate data using RDD operations such as map, filter, reduce, or aggregate.\n"
      ],
      "metadata": {
        "id": "ut2HsoyPW-R7"
      }
    },
    {
      "cell_type": "code",
      "source": [
        "from pyspark import SparkContext\n",
        "\n",
        "# Create a SparkContext\n",
        "sc = SparkContext(appName=\"RDDExample\")\n",
        "\n",
        "# Create an RDD from a local data source\n",
        "data = [1, 2, 3, 4, 5]\n",
        "rdd = sc.parallelize(data)\n",
        "\n",
        "# Apply transformations and actions on the RDD\n",
        "squared_rdd = rdd.map(lambda x: x ** 2)  # Square each element\n",
        "filtered_rdd = squared_rdd.filter(lambda x: x > 10)  # Filter elements greater than 10\n",
        "sum_of_elements = filtered_rdd.reduce(lambda x, y: x + y)  # Sum all elements\n",
        "\n",
        "# Print the transformed RDD and the sum of elements\n",
        "print(\"Transformed RDD:\")\n",
        "print(filtered_rdd.collect())\n",
        "print(\"Sum of elements:\", sum_of_elements)\n",
        "\n",
        "# Stop the SparkContext\n",
        "sc.stop()\n"
      ],
      "metadata": {
        "id": "8cy0vVQtW_Bg"
      },
      "execution_count": null,
      "outputs": []
    },
    {
      "cell_type": "markdown",
      "source": [
        "2. Spark DataFrame Operations:\n",
        "   a) Write a Python program to load a CSV file into a Spark DataFrame.\n",
        "   b)Perform common DataFrame operations such as filtering, grouping, or joining.\n",
        "   c) Apply Spark SQL queries on the DataFrame to extract insights from the data.\n"
      ],
      "metadata": {
        "id": "8FjhAh4DXB0V"
      }
    },
    {
      "cell_type": "code",
      "source": [
        "from pyspark.sql import SparkSession\n",
        "\n",
        "# Create a SparkSession\n",
        "spark = SparkSession.builder \\\n",
        "    .appName(\"DataFrameExample\") \\\n",
        "    .getOrCreate()\n",
        "\n",
        "# Load a CSV file into a Spark DataFrame\n",
        "df = spark.read.csv(\"input.csv\", header=True, inferSchema=True)\n",
        "\n",
        "# Print the schema of the DataFrame\n",
        "print(\"DataFrame Schema:\")\n",
        "df.printSchema()\n",
        "\n",
        "# Perform common DataFrame operations\n",
        "filtered_df = df.filter(df[\"Age\"] > 30)  # Filter records where Age is greater than 30\n",
        "grouped_df = df.groupBy(\"City\").count()  # Group by City and count occurrences\n",
        "joined_df = df.join(grouped_df, \"City\", \"inner\")  # Join the original DataFrame with the grouped DataFrame\n",
        "\n",
        "# Print the filtered DataFrame\n",
        "print(\"\\nFiltered DataFrame:\")\n",
        "filtered_df.show()\n",
        "\n",
        "# Print the grouped DataFrame\n",
        "print(\"\\nGrouped DataFrame:\")\n",
        "grouped_df.show()\n",
        "\n",
        "# Print the joined DataFrame\n",
        "print(\"\\nJoined DataFrame:\")\n",
        "joined_df.show()\n",
        "\n",
        "# Apply Spark SQL queries on the DataFrame\n",
        "df.createOrReplaceTempView(\"people\")  # Create a temporary view for SQL queries\n",
        "sql_result = spark.sql(\"SELECT City, AVG(Age) as AverageAge FROM people GROUP BY City\")  # SQL query to calculate average age by city\n",
        "\n",
        "# Print the result of the SQL query\n",
        "print(\"\\nSQL Query Result:\")\n",
        "sql_result.show()\n",
        "\n",
        "# Stop the SparkSession\n",
        "spark.stop()\n"
      ],
      "metadata": {
        "id": "_TlODQKaXFc-"
      },
      "execution_count": null,
      "outputs": []
    },
    {
      "cell_type": "markdown",
      "source": [
        "3. Spark Streaming:\n",
        "  a) Write a Python program to create a Spark Streaming application.\n",
        "   b) Configure the application to consume data from a streaming source (e.g., Kafka or a socket).\n",
        "   c) Implement streaming transformations and actions to process and analyze the incoming data stream.\n"
      ],
      "metadata": {
        "id": "f7o3MpzAXV3Z"
      }
    },
    {
      "cell_type": "code",
      "source": [
        "from pyspark.sql import SparkSession\n",
        "from pyspark.streaming import StreamingContext\n",
        "\n",
        "# Create a SparkSession\n",
        "spark = SparkSession.builder \\\n",
        "    .appName(\"StreamingExample\") \\\n",
        "    .getOrCreate()\n",
        "\n",
        "# Create a StreamingContext with a batch interval of 1 second\n",
        "ssc = StreamingContext(spark.sparkContext, 1)\n",
        "\n",
        "# Configure the streaming application to consume data from a socket\n",
        "lines = ssc.socketTextStream(\"localhost\", 9999)\n",
        "\n",
        "# Implement streaming transformations and actions\n",
        "word_counts = lines.flatMap(lambda line: line.split(\" \")) \\\n",
        "    .map(lambda word: (word, 1)) \\\n",
        "    .reduceByKey(lambda x, y: x + y)\n",
        "\n",
        "# Print the word counts in each batch\n",
        "word_counts.pprint()\n",
        "\n",
        "# Start the streaming computation\n",
        "ssc.start()\n",
        "\n",
        "# Wait for the streaming to finish\n",
        "ssc.awaitTermination()\n"
      ],
      "metadata": {
        "id": "khkqZh-pXZ1J"
      },
      "execution_count": null,
      "outputs": []
    },
    {
      "cell_type": "markdown",
      "source": [
        "4. Spark SQL and Data Source Integration:\n",
        "   a) Write a Python program to connect Spark with a relational database (e.g., MySQL, PostgreSQL).\n",
        "   b)Perform SQL operations on the data stored in the database using Spark SQL.\n",
        "   c) Explore the integration capabilities of Spark with other data sources, such as Hadoop Distributed File System (HDFS) or Amazon S3.\n"
      ],
      "metadata": {
        "id": "5jXodohQXer8"
      }
    },
    {
      "cell_type": "code",
      "source": [
        "from pyspark.sql import SparkSession\n",
        "\n",
        "# Create a SparkSession\n",
        "spark = SparkSession.builder \\\n",
        "    .appName(\"SQLIntegrationExample\") \\\n",
        "    .getOrCreate()\n",
        "\n",
        "# Connect Spark with a relational database (MySQL)\n",
        "db_url = \"jdbc:mysql://localhost:3306/mydatabase\"\n",
        "db_properties = {\n",
        "    \"user\": \"username\",\n",
        "    \"password\": \"password\",\n",
        "    \"driver\": \"com.mysql.jdbc.Driver\"\n",
        "}\n",
        "df = spark.read.jdbc(db_url, \"tablename\", properties=db_properties)\n",
        "\n",
        "# Perform SQL operations on the data stored in the database using Spark SQL\n",
        "df.createOrReplaceTempView(\"mytable\")  # Create a temporary view for SQL queries\n",
        "sql_result = spark.sql(\"SELECT * FROM mytable WHERE age > 30\")  # SQL query\n",
        "\n",
        "# Print the result of the SQL query\n",
        "print(\"SQL Query Result:\")\n",
        "sql_result.show()\n",
        "\n",
        "# Explore integration capabilities with other data sources (HDFS and Amazon S3)\n",
        "hdfs_path = \"hdfs://localhost:9000/mydata/file.csv\"\n",
        "df_hdfs = spark.read.csv(hdfs_path, header=True, inferSchema=True)\n",
        "\n",
        "s3_path = \"s3a://bucketname/folder/file.csv\"\n",
        "df_s3 = spark.read.csv(s3_path, header=True, inferSchema=True)\n",
        "\n",
        "# Perform operations on data from HDFS and S3\n",
        "# ...\n",
        "\n",
        "# Stop the SparkSession\n",
        "spark.stop()\n"
      ],
      "metadata": {
        "id": "gfugzdSIXgrj"
      },
      "execution_count": null,
      "outputs": []
    }
  ]
}