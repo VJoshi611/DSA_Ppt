{
  "nbformat": 4,
  "nbformat_minor": 0,
  "metadata": {
    "colab": {
      "provenance": []
    },
    "kernelspec": {
      "name": "python3",
      "display_name": "Python 3"
    },
    "language_info": {
      "name": "python"
    }
  },
  "cells": [
    {
      "cell_type": "markdown",
      "source": [
        "<aside>\n",
        "💡 Question-1:\n",
        "\n",
        "Given preorder of a binary tree, calculate its **[depth(or height)](https://www.geeksforgeeks.org/write-a-c-program-to-find-the-maximum-depth-or-height-of-a-tree/)** [starting from depth 0]. The preorder is given as a string with two possible characters.\n",
        "\n",
        "1. ‘l’ denotes the leaf\n",
        "2. ‘n’ denotes internal node\n",
        "\n",
        "The given tree can be seen as a full binary tree where every node has 0 or two children. The two children of a node can ‘n’ or ‘l’ or mix of both.\n",
        "\n",
        "**Examples :**\n",
        "\n",
        "Input  : nlnll\n",
        "Output : 2\n",
        "\n",
        "</aside>"
      ],
      "metadata": {
        "id": "TVVTBTb-RAJo"
      }
    },
    {
      "cell_type": "code",
      "source": [
        "def calculate_tree_depth(preorder):\n",
        "    depth = 0\n",
        "    stack = []\n",
        "\n",
        "    for char in preorder:\n",
        "        if char == 'n':\n",
        "            stack.append(char)\n",
        "        elif char == 'l':\n",
        "            while stack and stack[-1] == 'l':\n",
        "                stack.pop()\n",
        "            if stack:\n",
        "                stack.pop()\n",
        "            stack.append('l')\n",
        "            depth = max(depth, len(stack) - 1)\n",
        "\n",
        "    return depth\n",
        "\n",
        "\n",
        "# Test the function with examples\n",
        "preorder1 = 'nlnnlll'\n",
        "preorder2 = 'nlnnlllnll'\n",
        "preorder3 = 'nlnll'\n",
        "\n",
        "print(\"Preorder 1:\", preorder1)\n",
        "print(\"Depth 1:\", calculate_tree_depth(preorder1))\n",
        "\n",
        "print(\"\\nPreorder 2:\", preorder2)\n",
        "print(\"Depth 2:\", calculate_tree_depth(preorder2))\n",
        "\n",
        "print(\"\\nPreorder 3:\", preorder3)\n",
        "print(\"Depth 3:\", calculate_tree_depth(preorder3))"
      ],
      "metadata": {
        "colab": {
          "base_uri": "https://localhost:8080/"
        },
        "id": "TCumshDBRDFc",
        "outputId": "5e540379-17e7-41ba-e6ec-9002a06cbd64"
      },
      "execution_count": 41,
      "outputs": [
        {
          "output_type": "stream",
          "name": "stdout",
          "text": [
            "Preorder 1: nlnnlll\n",
            "Depth 1: 2\n",
            "\n",
            "Preorder 2: nlnnlllnll\n",
            "Depth 2: 2\n",
            "\n",
            "Preorder 3: nlnll\n",
            "Depth 3: 1\n"
          ]
        }
      ]
    },
    {
      "cell_type": "code",
      "source": [],
      "metadata": {
        "id": "KUAdfohXRGZ8"
      },
      "execution_count": null,
      "outputs": []
    },
    {
      "cell_type": "markdown",
      "source": [
        "<aside>\n",
        "💡 Question-2:\n",
        "\n",
        "Given a Binary tree, the task is to print the **left view** of the Binary Tree. The left view of a Binary Tree is a set of leftmost nodes for every level.\n",
        "\n",
        "</aside>"
      ],
      "metadata": {
        "id": "yhP2ncCLRG23"
      }
    },
    {
      "cell_type": "code",
      "source": [
        "class TreeNode:\n",
        "    def __init__(self, value):\n",
        "        self.val = value\n",
        "        self.left = None\n",
        "        self.right = None\n",
        "\n",
        "\n",
        "def left_view(root):\n",
        "    if not root:\n",
        "        return []\n",
        "\n",
        "    queue = [(root, 0)]\n",
        "    result = []\n",
        "\n",
        "    while queue:\n",
        "        node, level = queue.pop(0)\n",
        "\n",
        "        if level == len(result):\n",
        "            result.append(node.val)\n",
        "\n",
        "        if node.left:\n",
        "            queue.append((node.left, level + 1))\n",
        "        if node.right:\n",
        "            queue.append((node.right, level + 1))\n",
        "\n",
        "    return result\n",
        "\n",
        "\n",
        "# Test the function with an example\n",
        "root = TreeNode(1)\n",
        "root.left = TreeNode(2)\n",
        "root.right = TreeNode(3)\n",
        "root.left.left = TreeNode(4)\n",
        "root.left.right = TreeNode(5)\n",
        "root.right.left = TreeNode(6)\n",
        "root.right.right = TreeNode(7)\n",
        "root.left.left.left = TreeNode(8)\n",
        "\n",
        "print(\"Left view:\", left_view(root))"
      ],
      "metadata": {
        "colab": {
          "base_uri": "https://localhost:8080/"
        },
        "id": "ua8SLSKfRJ9p",
        "outputId": "a5a96835-200e-47c0-b38b-9d6290a4af2d"
      },
      "execution_count": 42,
      "outputs": [
        {
          "output_type": "stream",
          "name": "stdout",
          "text": [
            "Left view: [1, 2, 4, 8]\n"
          ]
        }
      ]
    },
    {
      "cell_type": "code",
      "source": [],
      "metadata": {
        "id": "VlUUlRqHRQKC"
      },
      "execution_count": null,
      "outputs": []
    },
    {
      "cell_type": "markdown",
      "source": [
        "<aside>\n",
        "💡 Question-3:\n",
        "\n",
        "Given a Binary Tree, print the Right view of it.\n",
        "\n",
        "The right view of a Binary Tree is a set of nodes visible when the tree is visited from the Right side.\n",
        "\n",
        "</aside>"
      ],
      "metadata": {
        "id": "tP4V7vPwRQq4"
      }
    },
    {
      "cell_type": "code",
      "source": [
        "class TreeNode:\n",
        "    def __init__(self, value):\n",
        "        self.val = value\n",
        "        self.left = None\n",
        "        self.right = None\n",
        "\n",
        "\n",
        "def right_view(root):\n",
        "    if not root:\n",
        "        return []\n",
        "\n",
        "    queue = [(root, 0)]\n",
        "    result = []\n",
        "\n",
        "    while queue:\n",
        "        node, level = queue.pop(0)\n",
        "\n",
        "        if level == len(result):\n",
        "            result.append(node.val)\n",
        "\n",
        "        if node.right:\n",
        "            queue.append((node.right, level + 1))\n",
        "        if node.left:\n",
        "            queue.append((node.left, level + 1))\n",
        "\n",
        "    return result\n",
        "\n",
        "\n",
        "# Test the function with examples\n",
        "root1 = TreeNode(1)\n",
        "root1.left = TreeNode(2)\n",
        "root1.right = TreeNode(3)\n",
        "root1.left.left = TreeNode(4)\n",
        "root1.left.right = TreeNode(5)\n",
        "root1.right.left = TreeNode(6)\n",
        "root1.right.right = TreeNode(7)\n",
        "root1.right.right.right = TreeNode(8)\n",
        "\n",
        "print(\"Right view (Example 1):\", right_view(root1))\n",
        "\n",
        "root2 = TreeNode(1)\n",
        "root2.left = TreeNode(8)\n",
        "root2.left.left = TreeNode(7)\n",
        "\n",
        "print(\"Right view (Example 2):\", right_view(root2))"
      ],
      "metadata": {
        "colab": {
          "base_uri": "https://localhost:8080/"
        },
        "id": "G8_DHGdBRT3a",
        "outputId": "7f0751b6-c6c6-42af-d973-46befbf99a95"
      },
      "execution_count": 43,
      "outputs": [
        {
          "output_type": "stream",
          "name": "stdout",
          "text": [
            "Right view (Example 1): [1, 3, 7, 8]\n",
            "Right view (Example 2): [1, 8, 7]\n"
          ]
        }
      ]
    },
    {
      "cell_type": "code",
      "source": [],
      "metadata": {
        "id": "XZpDNkCaRb08"
      },
      "execution_count": null,
      "outputs": []
    },
    {
      "cell_type": "markdown",
      "source": [
        "<aside>\n",
        "💡 Question-4:\n",
        "\n",
        "Given a Binary Tree, The task is to print the **bottom view** from left to right. A node **x** is there in output if x is the bottommost node at its horizontal distance. The horizontal distance of the left child of a node x is equal to a horizontal distance of x minus 1, and that of a right child is the horizontal distance of x plus 1.\n",
        "\n",
        "</aside>"
      ],
      "metadata": {
        "id": "5jufizTlRcjr"
      }
    },
    {
      "cell_type": "code",
      "source": [
        "class TreeNode:\n",
        "    def __init__(self, value):\n",
        "        self.val = value\n",
        "        self.left = None\n",
        "        self.right = None\n",
        "\n",
        "\n",
        "def bottom_view(root):\n",
        "    if not root:\n",
        "        return []\n",
        "\n",
        "    # Dictionary to store the bottom-most node for each horizontal distance\n",
        "    bottom_nodes = {}\n",
        "\n",
        "    # Queue for level order traversal\n",
        "    queue = [(root, 0)]\n",
        "\n",
        "    while queue:\n",
        "        node, hd = queue.pop(0)\n",
        "\n",
        "        # Update the bottom-most node for the current horizontal distance\n",
        "        bottom_nodes[hd] = node.val\n",
        "\n",
        "        if node.left:\n",
        "            queue.append((node.left, hd - 1))\n",
        "        if node.right:\n",
        "            queue.append((node.right, hd + 1))\n",
        "\n",
        "    # Sort the bottom_nodes dictionary by the keys (horizontal distances)\n",
        "    sorted_bottom_nodes = sorted(bottom_nodes.items(), key=lambda x: x[0])\n",
        "\n",
        "    # Return the values (bottom-most nodes) in the sorted dictionary\n",
        "    return [val for _, val in sorted_bottom_nodes]\n",
        "\n",
        "\n",
        "# Test the function with examples\n",
        "root1 = TreeNode(20)\n",
        "root1.left = TreeNode(8)\n",
        "root1.right = TreeNode(22)\n",
        "root1.left.left = TreeNode(5)\n",
        "root1.left.right = TreeNode(3)\n",
        "root1.right.right = TreeNode(25)\n",
        "root1.left.right.left = TreeNode(10)\n",
        "root1.left.right.right = TreeNode(14)\n",
        "\n",
        "print(\"Bottom view (Example 1):\", bottom_view(root1))\n",
        "\n",
        "root2 = TreeNode(20)\n",
        "root2.left = TreeNode(8)\n",
        "root2.right = TreeNode(22)\n",
        "root2.left.left = TreeNode(5)\n",
        "root2.left.right = TreeNode(3)\n",
        "root2.right.left = TreeNode(4)\n",
        "root2.right.right = TreeNode(25)\n",
        "root2.left.right.left = TreeNode(10)\n",
        "root2.left.right.right = TreeNode(14)\n",
        "\n",
        "print(\"Bottom view (Example 2):\", bottom_view(root2))"
      ],
      "metadata": {
        "colab": {
          "base_uri": "https://localhost:8080/"
        },
        "id": "o6i1f4wkRfYT",
        "outputId": "8097e56e-6042-4d33-ee96-fc52f7450fb0"
      },
      "execution_count": 44,
      "outputs": [
        {
          "output_type": "stream",
          "name": "stdout",
          "text": [
            "Bottom view (Example 1): [5, 10, 3, 14, 25]\n",
            "Bottom view (Example 2): [5, 10, 4, 14, 25]\n"
          ]
        }
      ]
    },
    {
      "cell_type": "code",
      "source": [],
      "metadata": {
        "id": "BrkMf5s1Rlpr"
      },
      "execution_count": null,
      "outputs": []
    }
  ]
}