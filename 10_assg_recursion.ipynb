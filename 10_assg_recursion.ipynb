{
  "nbformat": 4,
  "nbformat_minor": 0,
  "metadata": {
    "colab": {
      "provenance": []
    },
    "kernelspec": {
      "name": "python3",
      "display_name": "Python 3"
    },
    "language_info": {
      "name": "python"
    }
  },
  "cells": [
    {
      "cell_type": "code",
      "execution_count": null,
      "metadata": {
        "id": "4cu_KMBKXUKJ"
      },
      "outputs": [],
      "source": [
        "### ASSIGNMENT  10 :--\n"
      ]
    },
    {
      "cell_type": "code",
      "source": [
        "# Q1 Given an integer n, return true if it is a power of three. Otherwise, return false\n",
        "\n",
        "def powerThree(n):\n",
        " \n",
        "    if (n <= 0):\n",
        "        return False\n",
        "    if (n % 3 == 0):\n",
        "        return powerThree(n // 3)\n",
        "    if (n == 1):\n",
        "        return True\n",
        "    return False\n",
        "\n",
        "num = 27\n",
        "if (powerThree(num)):\n",
        "    print(\"Yes\")\n",
        "else:\n",
        "    print(\"No\")"
      ],
      "metadata": {
        "colab": {
          "base_uri": "https://localhost:8080/"
        },
        "id": "8X6CD21TiL6I",
        "outputId": "8fee2bee-bcf8-4907-bff6-451f4968e3b3"
      },
      "execution_count": null,
      "outputs": [
        {
          "output_type": "stream",
          "name": "stdout",
          "text": [
            "Yes\n"
          ]
        }
      ]
    },
    {
      "cell_type": "code",
      "source": [
        "# Q2 You have a list arr of all integers in the range [1, n] sorted in a strictly increasing order. Apply the following algorithm on arr:\n",
        "\n",
        "class Solution:\n",
        "    def lastRemaining(self, n: int) -> int:\n",
        "        N = n  \n",
        "        fwd = True   \n",
        "        m = 2   \n",
        "        s = 0 \n",
        "\n",
        "        while N > 1:\n",
        "            if fwd or N % 2 == 1: \n",
        "                s += m // 2\n",
        "            m *= 2\n",
        "            N = N // 2\n",
        "            fwd = not fwd  \n",
        "        return s+1"
      ],
      "metadata": {
        "id": "LloCFnmeiL7T"
      },
      "execution_count": null,
      "outputs": []
    },
    {
      "cell_type": "code",
      "source": [
        "# Q3 Given a set represented as a string, write a recursive code to print all subsets of it. The subsets can be printed in any order\n",
        "\n",
        "def powerSet(stri, ind, curr):\n",
        "\n",
        "    if ind == len(stri):\n",
        "        print(curr)\n",
        "        return\n",
        " \n",
        "    powerSet(stri, ind + 1, curr + stri[ind])\n",
        "    powerSet(stri, ind + 1, curr)\n",
        "\n",
        "\n",
        "s1 = \"abc\"\n",
        "index = 0\n",
        "curr = \"\"\n",
        "powerSet(s1, index, curr)"
      ],
      "metadata": {
        "colab": {
          "base_uri": "https://localhost:8080/"
        },
        "id": "n-uJxmXniL9r",
        "outputId": "376df791-a8d7-407d-b101-f8bbc49e1a39"
      },
      "execution_count": null,
      "outputs": [
        {
          "output_type": "stream",
          "name": "stdout",
          "text": [
            "abc\n",
            "ab\n",
            "ac\n",
            "a\n",
            "bc\n",
            "b\n",
            "c\n",
            "\n"
          ]
        }
      ]
    },
    {
      "cell_type": "code",
      "source": [
        "# Q4 Given a string calculate length of the string using recursion.\n",
        "\n",
        "str = \"abcd\"\n",
        " \n",
        "def len(str) :\n",
        "     \n",
        "    if str == '':\n",
        "        return 0\n",
        "    else :\n",
        "        return 1 + len(str[1:])\n",
        "\n",
        "print(len(str))"
      ],
      "metadata": {
        "colab": {
          "base_uri": "https://localhost:8080/"
        },
        "id": "rH7ZZ46siMB4",
        "outputId": "2dfe42e0-e3a7-4d34-d2d5-91b2ad4910f8"
      },
      "execution_count": null,
      "outputs": [
        {
          "output_type": "stream",
          "name": "stdout",
          "text": [
            "4\n"
          ]
        }
      ]
    },
    {
      "cell_type": "code",
      "source": [
        "# Q5 We are given a string S, we need to find count of all contiguous substrings starting and ending with same character.\n",
        "\n",
        "def countStr(str, i, j, n):\n",
        "    if (n == 1):\n",
        "        return 1\n",
        "    if (n <= 0):\n",
        "        return 0\n",
        "        \n",
        "    res = ( countStr(str, i + 1, j, n - 1) + countStr(str, i, j - 1, n - 1) - countStr(str, i + 1, j - 1, n - 2) )    \n",
        " \n",
        "    if (str[i] == str[j]):\n",
        "        res += 1\n",
        " \n",
        "    return res\n",
        "\n",
        "str = \"abcab\"\n",
        "n = len(str)\n",
        "print(countStr(str, 0, n - 1, n))\n",
        " "
      ],
      "metadata": {
        "colab": {
          "base_uri": "https://localhost:8080/"
        },
        "id": "CFlcMWLriMC9",
        "outputId": "5fd8b682-6e3b-42a2-d1ec-af4cbe7bc216"
      },
      "execution_count": null,
      "outputs": [
        {
          "output_type": "stream",
          "name": "stdout",
          "text": [
            "7\n"
          ]
        }
      ]
    },
    {
      "cell_type": "code",
      "source": [
        "# Q6 The tower of Hanoi is a famous puzzle where we have three rods and N disks. The objective of the puzzle is to move the entire stack to another rod.\n",
        "\n",
        "def TowerOfHanoi(n, from_rod, to_rod, aux_rod):\n",
        "\tif n == 0:\n",
        "\t\treturn\n",
        "\tTowerOfHanoi(n-1, from_rod, aux_rod, to_rod)\n",
        "\tprint(\"Move disk\", n, \"from rod\", from_rod, \"to rod\", to_rod)\n",
        "\tTowerOfHanoi(n-1, aux_rod, to_rod, from_rod)\n",
        "\n",
        "N = 3\n",
        "TowerOfHanoi(N, 'A', 'C', 'B')"
      ],
      "metadata": {
        "colab": {
          "base_uri": "https://localhost:8080/"
        },
        "id": "TS_ExmKMiMF0",
        "outputId": "55ec91c3-1482-4ea7-8fb6-6ec4290e77df"
      },
      "execution_count": null,
      "outputs": [
        {
          "output_type": "stream",
          "name": "stdout",
          "text": [
            "Move disk 1 from rod A to rod C\n",
            "Move disk 2 from rod A to rod B\n",
            "Move disk 1 from rod C to rod B\n",
            "Move disk 3 from rod A to rod C\n",
            "Move disk 1 from rod B to rod A\n",
            "Move disk 2 from rod B to rod C\n",
            "Move disk 1 from rod A to rod C\n"
          ]
        }
      ]
    },
    {
      "cell_type": "code",
      "source": [
        "# Q7 Given a string str, the task is to print all the permutations of str. A permutation is an arrangement of all or part of a set of objects, with regard to the order of the arrangement. \n",
        "\n",
        "def generatePermutation(string,s,e):  \n",
        "    current = 0;  \n",
        "    \n",
        "    if(s == e-1):  \n",
        "        print(string);  \n",
        "    else:   \n",
        "        for current in range(s,e):  \n",
        "  \n",
        "       \n",
        "            x = list(string);  \n",
        "            temp = x[s];  \n",
        "            x[s] = x[current];  \n",
        "            x[current] = temp;    \n",
        "  \n",
        "            generatePermutation(\"\".join(x),s+1,e);  \n",
        "            #Swapping the string by fixing a character  \n",
        "            temp = x[s];  \n",
        "            x[s] = x[current];  \n",
        "            x[current] = temp;  \n",
        "  \n",
        "str = \"ABC\"  \n",
        "n = len(str);  \n",
        "print(\"permutations of string are: \");  \n",
        "generatePermutation(str,0,n);  "
      ],
      "metadata": {
        "id": "SXPPHPwCiMIy",
        "colab": {
          "base_uri": "https://localhost:8080/"
        },
        "outputId": "590a4a24-28e9-40fe-f708-80ef29f2313d"
      },
      "execution_count": 2,
      "outputs": [
        {
          "output_type": "stream",
          "name": "stdout",
          "text": [
            "permutations of string are: \n",
            "ABC\n",
            "ACB\n",
            "BAC\n",
            "BCA\n",
            "CBA\n",
            "CAB\n"
          ]
        }
      ]
    },
    {
      "cell_type": "code",
      "source": [
        "# Q8 Given a string, count total number of consonants in it. A consonant is an English alphabet character that is not vowel (a, e, i, o and u). Examples of constants are b, c, d, f, and g.\n",
        "\n",
        "def consonant(ch):\n",
        "\n",
        "\tch = ch.upper()\n",
        "\n",
        "\treturn not (ch == 'A' or ch == 'E' or ch == 'I' or ch == 'O' or ch == 'U') and ord(ch) >= 65 and ord(ch) <= 90\n",
        "\n",
        "def totalCons(string, n):\n",
        "\t\n",
        "\tif n == 1:\n",
        "\t\treturn consonant(string[0])\n",
        "\n",
        "\treturn totalCons(string, n - 1) + consonant(string[n-1])\n",
        "\n",
        "string = \"abc de\"\n",
        "print(totalCons(string, len(string)))"
      ],
      "metadata": {
        "id": "3PjQrmo-nWLG",
        "colab": {
          "base_uri": "https://localhost:8080/"
        },
        "outputId": "70766430-02d7-45ac-f6e5-ea8a2e827164"
      },
      "execution_count": 3,
      "outputs": [
        {
          "output_type": "stream",
          "name": "stdout",
          "text": [
            "3\n"
          ]
        }
      ]
    },
    {
      "cell_type": "code",
      "source": [],
      "metadata": {
        "id": "iOCdOU89nWMw"
      },
      "execution_count": null,
      "outputs": []
    },
    {
      "cell_type": "code",
      "source": [],
      "metadata": {
        "id": "TnkMSyFhnWP4"
      },
      "execution_count": null,
      "outputs": []
    }
  ]
}