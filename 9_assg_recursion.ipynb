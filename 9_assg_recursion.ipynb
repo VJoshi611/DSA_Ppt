{
  "nbformat": 4,
  "nbformat_minor": 0,
  "metadata": {
    "colab": {
      "provenance": []
    },
    "kernelspec": {
      "name": "python3",
      "display_name": "Python 3"
    },
    "language_info": {
      "name": "python"
    }
  },
  "cells": [
    {
      "cell_type": "code",
      "execution_count": null,
      "metadata": {
        "id": "4cu_KMBKXUKJ"
      },
      "outputs": [],
      "source": [
        "### ASSIGNMENT  9 :--\n",
        "# LEETCODE SOLUTION "
      ]
    },
    {
      "cell_type": "code",
      "source": [
        "#   Q1 Given an integer `n`, return *`true` if it is a power of two. Otherwise, return `false`*.\n",
        "# An integer `n` is a power of two, if there exists an integer `x` such that `n == 2x`\n",
        "\n",
        "class Solution:\n",
        "    def isPowerOfTwo(self, n: int) -> bool:\n",
        "        \n",
        "        if n <= 0:\n",
        "            return False\n",
        "        if n == 1:\n",
        "            return True\n",
        "        \n",
        "        while (n % 2 == 0):\n",
        "            n /= 2\n",
        "        \n",
        "        return n == 1"
      ],
      "metadata": {
        "id": "9SqQzrBzXZyg"
      },
      "execution_count": null,
      "outputs": []
    },
    {
      "cell_type": "code",
      "source": [
        "# Q2 Given a number n, find the sum of the first natural numbers.\n",
        "\n",
        "def natural(num):\n",
        "  if num == 1:\n",
        "    return 1\n",
        "  return num + natural(num-1)\n",
        "\n",
        "num = int(input())\n",
        "print(natural(num))"
      ],
      "metadata": {
        "colab": {
          "base_uri": "https://localhost:8080/"
        },
        "id": "omr9A7pAaru4",
        "outputId": "8dbd0138-582c-45c0-d019-d32b618aeca6"
      },
      "execution_count": 1,
      "outputs": [
        {
          "output_type": "stream",
          "name": "stdout",
          "text": [
            "5\n",
            "15\n"
          ]
        }
      ]
    },
    {
      "cell_type": "code",
      "source": [
        "# Q 3 Given a positive integer, N. Find the factorial of N\n",
        "\n",
        "def factorial(n):  \n",
        "   if n == 1:  \n",
        "       return n  \n",
        "   else:  \n",
        "       return n*factorial(n-1)  \n",
        "\n",
        "num = int(input(\"Enter a number: \"))  \n",
        " \n",
        "if num < 0:  \n",
        "   print(\"Enter positive number\")  \n",
        "elif num == 0:  \n",
        "   print(\"factorial of 0 is 1\")  \n",
        "else:  \n",
        "   print(\"The factorial of\",num,\"is\",factorial(num))"
      ],
      "metadata": {
        "colab": {
          "base_uri": "https://localhost:8080/"
        },
        "id": "dXW-ankDarv8",
        "outputId": "fc96cb3d-ada1-497b-826d-483cdc7165e6"
      },
      "execution_count": 2,
      "outputs": [
        {
          "output_type": "stream",
          "name": "stdout",
          "text": [
            "Enter a number: 5\n",
            "The factorial of 5 is 120\n"
          ]
        }
      ]
    },
    {
      "cell_type": "code",
      "source": [
        "# Q4 Given a number N and a power P, the task is to find the exponent of this number raised to the given power, i.e. N^P.\n",
        "\n",
        "def power(base,exp):\n",
        "    if exp==1 :\n",
        "        return(base)\n",
        "    if exp!=1 :\n",
        "        return(base*power(base,exp-1))\n",
        "\n",
        "base=int(input(\"base value : \"))\n",
        "\n",
        "exp=int(input(\"exponential value: \"))\n",
        "\n",
        "print(\"output :\",power(base,exp))"
      ],
      "metadata": {
        "colab": {
          "base_uri": "https://localhost:8080/"
        },
        "id": "2e4eV26Oarys",
        "outputId": "f6522a74-1edf-43fe-f1cc-617150cbdd33"
      },
      "execution_count": 3,
      "outputs": [
        {
          "output_type": "stream",
          "name": "stdout",
          "text": [
            "base value : 3\n",
            "exponential value: 6\n",
            "output : 729\n"
          ]
        }
      ]
    },
    {
      "cell_type": "code",
      "source": [
        "# Q5 Given an array of integers arr, the task is to find maximum element of that array using recursion.\n",
        "\n",
        "def findMax(A, n):\n",
        "    if (n == 1):\n",
        "        return A[0]\n",
        "    return max(A[n - 1], findMax(A, n - 1))\n",
        "\n",
        "A = [5,9,1,4,-5,3,7,0]\n",
        "n = len(A)\n",
        "print(findMax(A, n))\n"
      ],
      "metadata": {
        "colab": {
          "base_uri": "https://localhost:8080/"
        },
        "id": "fb1acKNAarzl",
        "outputId": "563a56d1-09a4-4543-fed5-eef5e60be92c"
      },
      "execution_count": 4,
      "outputs": [
        {
          "output_type": "stream",
          "name": "stdout",
          "text": [
            "9\n"
          ]
        }
      ]
    },
    {
      "cell_type": "code",
      "source": [
        "# Q6 Given first term (a), common difference (d) and a integer N of the Arithmetic Progression series, the task is to find Nth term of the series.\n",
        "\n",
        "def Nth_of_AP(a, d, N) :\n",
        "\treturn (a + (N - 1) * d)\n",
        "\n",
        "a = 2 \n",
        "d = 1 \n",
        "N = 5 \n",
        "\n",
        "print( N ,\"th term of series is : \",\n",
        "\tNth_of_AP(a, d, N))\n"
      ],
      "metadata": {
        "colab": {
          "base_uri": "https://localhost:8080/"
        },
        "id": "78XaeWu9ar2b",
        "outputId": "0625afaa-531f-4f6f-d60e-13bc26454297"
      },
      "execution_count": 5,
      "outputs": [
        {
          "output_type": "stream",
          "name": "stdout",
          "text": [
            "5 th term of series is :  6\n"
          ]
        }
      ]
    },
    {
      "cell_type": "code",
      "source": [
        "# Q7 Given a string S, the task is to write a program to print all permutations of a given string.\n",
        "\n",
        "def toString(List):\n",
        "    return ''.join(List) \n",
        " \n",
        "def permute(a, l, r):\n",
        "    if l == r:\n",
        "        print(toString(a))\n",
        "    else:\n",
        "        for i in range(l, r):\n",
        "            a[l], a[i] = a[i], a[l]\n",
        "            permute(a, l+1, r)\n",
        "            a[l], a[i] = a[i], a[l]  # backtrack\n",
        " \n",
        "\n",
        "string = \"ABC\"\n",
        "n = len(string)\n",
        "a = list(string)\n",
        "\n",
        "permute(a, 0, n)"
      ],
      "metadata": {
        "id": "jzNeKMXMar62"
      },
      "execution_count": null,
      "outputs": []
    },
    {
      "cell_type": "code",
      "source": [
        "# Q8 Given an array, find a product of all array elements.\n",
        "\n",
        "def findProduct(arr, n):\n",
        "    if n == 0:\n",
        "        return(arr[n])\n",
        "    else:\n",
        "        return (arr[n] * findProduct(arr, n - 1))\n",
        "\n",
        "def printList(arr, size):\n",
        "    for i in range(size):\n",
        "        print(arr[i], end=\" \")\n",
        "    print()\n",
        "\n",
        "arr1 = [1, 2, 3, 4, 5, 6, 7, 8]\n",
        "size1 = len(arr1)\n",
        "print(\"Array 1:\")\n",
        "printList(arr1, size1)\n",
        "print(\"Product of the array elements:\", findProduct(arr1, size1-1))"
      ],
      "metadata": {
        "id": "JI6PIfjCXZzw"
      },
      "execution_count": null,
      "outputs": []
    },
    {
      "cell_type": "code",
      "source": [],
      "metadata": {
        "id": "wU0VarHoXZ3G"
      },
      "execution_count": null,
      "outputs": []
    }
  ]
}