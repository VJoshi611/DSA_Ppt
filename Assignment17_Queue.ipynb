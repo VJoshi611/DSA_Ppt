{
  "nbformat": 4,
  "nbformat_minor": 0,
  "metadata": {
    "colab": {
      "provenance": []
    },
    "kernelspec": {
      "name": "python3",
      "display_name": "Python 3"
    },
    "language_info": {
      "name": "python"
    }
  },
  "cells": [
    {
      "cell_type": "code",
      "execution_count": null,
      "metadata": {
        "id": "DGATAsC2dTzv"
      },
      "outputs": [],
      "source": []
    },
    {
      "cell_type": "markdown",
      "source": [
        "<aside>\n",
        "💡 **Question 1**\n",
        "\n",
        "Given a string `s`, *find the first non-repeating character in it and return its index*. If it does not exist, return `-1`.\n",
        "\n",
        "</aside>"
      ],
      "metadata": {
        "id": "rjEVEdkDhRvU"
      }
    },
    {
      "cell_type": "code",
      "source": [
        "from collections import Counter\n",
        "\n",
        "def printNonrepeated(string):\n",
        "\tfreq = Counter(string)\n",
        "\n",
        "\tfor i in string:\n",
        "\t\tif(freq[i] == 1):\n",
        "\t\t\tprint(\"First non-repeating character is \" + i)\n",
        "\t\t\tbreak\n",
        "\n",
        "string = \"abacd\"\n",
        "printNonrepeated(string)\n"
      ],
      "metadata": {
        "colab": {
          "base_uri": "https://localhost:8080/"
        },
        "id": "2utD0ajVhUGs",
        "outputId": "588cbaf8-db89-4cc7-e0f4-5d1d1330b93b"
      },
      "execution_count": 15,
      "outputs": [
        {
          "output_type": "stream",
          "name": "stdout",
          "text": [
            "First non-repeating character is b\n"
          ]
        }
      ]
    },
    {
      "cell_type": "code",
      "source": [],
      "metadata": {
        "id": "z1785hwChxCk"
      },
      "execution_count": null,
      "outputs": []
    },
    {
      "cell_type": "markdown",
      "source": [
        "<aside>\n",
        "💡 **Question 2**\n",
        "\n",
        "Given a **circular integer array** `nums` of length `n`, return *the maximum possible sum of a non-empty **subarray** of* `nums`.\n",
        "\n",
        "A **circular array** means the end of the array connects to the beginning of the array. Formally, the next element of `nums[i]` is `nums[(i + 1) % n]` and the previous element of `nums[i]` is `nums[(i - 1 + n) % n]`.\n",
        "\n",
        "</aside>"
      ],
      "metadata": {
        "id": "nCofgyC9h7Rv"
      }
    },
    {
      "cell_type": "code",
      "source": [
        "def maxCircularSum(a, n):\n",
        "\n",
        "\tif (n == 1):\n",
        "\t\treturn a[0]\n",
        "\n",
        "\t# Initialize sum variable which store total sum of the array.\n",
        "\tsum = 0\n",
        "\tfor i in range(n):\n",
        "\t\tsum += a[i]\n",
        "\n",
        "\t# Initialize every variable with first value of array.\n",
        "\tcurr_max = a[0]\n",
        "\tmax_so_far = a[0]\n",
        "\tcurr_min = a[0]\n",
        "\tmin_so_far = a[0]\n",
        "\n",
        "\t# Concept of Kadane's Algorithm\n",
        "\tfor i in range(1, n):\n",
        "\n",
        "\t\t# Kadane's Algorithm to find Maximum subarray sum.\n",
        "\t\tcurr_max = max(curr_max + a[i], a[i])\n",
        "\t\tmax_so_far = max(max_so_far, curr_max)\n",
        "\n",
        "\t\t# Kadane's Algorithm to find Minimum subarray sum.\n",
        "\t\tcurr_min = min(curr_min + a[i], a[i])\n",
        "\t\tmin_so_far = min(min_so_far, curr_min)\n",
        "\tif (min_so_far == sum):\n",
        "\t\treturn max_so_far\n",
        "\n",
        "\n",
        "\treturn max(max_so_far, sum - min_so_far)\n",
        "\n",
        "\n",
        "a = [11, 10, -20, 5, -3, -5, 8, -13, 10]\n",
        "n = len(a)\n",
        "print(\"Maximum circular sum is\", maxCircularSum(a, n))"
      ],
      "metadata": {
        "colab": {
          "base_uri": "https://localhost:8080/"
        },
        "id": "wr8YNvrSh774",
        "outputId": "31d364ad-55da-46d2-f7f5-0b693ad80ec0"
      },
      "execution_count": 20,
      "outputs": [
        {
          "output_type": "stream",
          "name": "stdout",
          "text": [
            "Maximum circular sum is 31\n"
          ]
        }
      ]
    },
    {
      "cell_type": "code",
      "source": [],
      "metadata": {
        "id": "OczJXU0liNo4"
      },
      "execution_count": null,
      "outputs": []
    },
    {
      "cell_type": "markdown",
      "source": [
        "You have a `RecentCounter` class which counts the number of recent requests within a certain time frame.\n",
        "\n",
        "Implement the `RecentCounter` class:\n",
        "- `RecentCounter()` Initializes the counter with zero recent requests.\n",
        "- `int ping(int t)` Adds a new request at time `t`, where `t` represents some time in milliseconds, and returns the number of requests that has happened in the past `3000` milliseconds (including the new request). Specifically, return the number of requests that have happened in the inclusive range `[t - 3000, t]`.\n",
        "\n",
        "It is **guaranteed** that every call to `ping` uses a strictly larger value of `t` than the previous call."
      ],
      "metadata": {
        "id": "xTkwXA2aijp_"
      }
    },
    {
      "cell_type": "code",
      "source": [
        "from collections import deque\n",
        "class RecentCounter:\n",
        "\n",
        "    def __init__(self):\n",
        "        self.q = deque()\n",
        "\n",
        "    def ping(self, t: int) -> int:\n",
        "        self.q.append(t)\n",
        "\n",
        "        while t - self.q[0] > 3000:\n",
        "            self.q.popleft()\n",
        "\n",
        "        return len(self.q)\n",
        ""
      ],
      "metadata": {
        "id": "JVraVpOYiyOz"
      },
      "execution_count": null,
      "outputs": []
    },
    {
      "cell_type": "code",
      "source": [],
      "metadata": {
        "id": "b5LNiUbqikbj"
      },
      "execution_count": null,
      "outputs": []
    },
    {
      "cell_type": "markdown",
      "source": [
        "<aside>\n",
        "💡 **Question 5**\n",
        "\n",
        "There are `n` friends that are playing a game. The friends are sitting in a circle and are numbered from `1` to `n` in **clockwise order**. More formally, moving clockwise from the `ith` friend brings you to the `(i+1)th` friend for `1 <= i < n`, and moving clockwise from the `nth` friend brings you to the `1st` friend.\n",
        "\n",
        "The rules of the game are as follows:\n",
        "\n",
        "1. **Start** at the `1st` friend.\n",
        "2. Count the next `k` friends in the clockwise direction **including** the friend you started at. The counting wraps around the circle and may count some friends more than once.\n",
        "3. The last friend you counted leaves the circle and loses the game.\n",
        "4. If there is still more than one friend in the circle, go back to step `2` **starting** from the friend **immediately clockwise** of the friend who just lost and repeat.\n",
        "5. Else, the last friend in the circle wins the game.\n",
        "\n",
        "Given the number of friends, `n`, and an integer `k`, return *the winner of the game*.\n",
        "\n",
        "</aside>"
      ],
      "metadata": {
        "id": "HlyIVNQvi4Ac"
      }
    },
    {
      "cell_type": "code",
      "source": [
        "class Solution {\n",
        "    public int findTheWinner(int n, int k) {\n",
        "        Queue<Integer> circularGame = new LinkedList<>();\n",
        "\n",
        "        for (int i = 1; i <= n; ++i) {\n",
        "            circularGame.add(i);\n",
        "        }\n",
        "\n",
        "        while (circularGame.size() > 1) {\n",
        "            int count = k;\n",
        "\n",
        "            while (count > 1) {\n",
        "                int current = circularGame.poll();\n",
        "                circularGame.add(current);\n",
        "\n",
        "                --count;\n",
        "            }\n",
        "\n",
        "            circularGame.poll();\n",
        "        }\n",
        "\n",
        "        return circularGame.peek();\n",
        "    }\n",
        "}\n"
      ],
      "metadata": {
        "id": "bXKLb_HKi9RU"
      },
      "execution_count": null,
      "outputs": []
    }
  ]
}