{
  "nbformat": 4,
  "nbformat_minor": 0,
  "metadata": {
    "colab": {
      "provenance": []
    },
    "kernelspec": {
      "name": "python3",
      "display_name": "Python 3"
    },
    "language_info": {
      "name": "python"
    }
  },
  "cells": [
    {
      "cell_type": "code",
      "execution_count": null,
      "metadata": {
        "id": "DGATAsC2dTzv"
      },
      "outputs": [],
      "source": []
    },
    {
      "cell_type": "markdown",
      "source": [
        "<aside>\n",
        "💡 **Question 1**\n",
        "\n",
        "Given an array, for each element find the value of the nearest element to the right which is having a frequency greater than that of the current element. If there does not exist an answer for a position, then make the value ‘-1’.\n",
        "\n",
        "</aside>"
      ],
      "metadata": {
        "id": "REUOFgQkdXNL"
      }
    },
    {
      "cell_type": "code",
      "source": [
        "\n",
        "mystack = []\n",
        "mymap = {}\n",
        "\n",
        "def NGF(arr, res):\n",
        "\tn = len(arr)\n",
        "\n",
        "\tfor i in range(n):\n",
        "\t\tif arr[i] in mymap:\n",
        "\t\t\tmymap[arr[i]] += 1\n",
        "\t\telse:\n",
        "\t\t\tmymap[arr[i]] = 1\n",
        "\n",
        "\tcurr_freq = mymap[arr[n-1]]\n",
        "\n",
        "\n",
        "\tmystack.append([arr[n-1],curr_freq])\n",
        "\n",
        "\tres[n-1] = -1\n",
        "\n",
        "\n",
        "\tfor i in range(n - 2, -1, -1):\n",
        "\t\tcurr_freq = mymap[arr[i]]\n",
        "\n",
        "\t\twhile len(mystack) > 0 and curr_freq >= mystack[-1][1]:\n",
        "\t\t\tmystack.pop()\n",
        "\n",
        "\t\tif (len(mystack) == 0):\n",
        "\t\t\tres[i] = -1\n",
        "\t\telse:\n",
        "\t\t\tres[i] = mystack[-1][0]\n",
        "\n",
        "\n",
        "\t\tmystack.append([arr[i],mymap[arr[i]]])\n",
        "\n",
        "arr = [1, 1, 1, 2, 2, 2, 2, 11, 3, 3]\n",
        "\n",
        "res = [0]*(len(arr))\n",
        "NGF(arr, res)\n",
        "print(res)\n"
      ],
      "metadata": {
        "colab": {
          "base_uri": "https://localhost:8080/"
        },
        "id": "Ux0lb7sLd_Sa",
        "outputId": "957b3a9b-b1b9-4802-b3f9-249872920e12"
      },
      "execution_count": 6,
      "outputs": [
        {
          "output_type": "stream",
          "name": "stdout",
          "text": [
            "[2, 2, 2, -1, -1, -1, -1, 3, -1, -1]\n"
          ]
        }
      ]
    },
    {
      "cell_type": "code",
      "source": [],
      "metadata": {
        "id": "pPiV5CuLeq6Z"
      },
      "execution_count": null,
      "outputs": []
    },
    {
      "cell_type": "markdown",
      "source": [
        "<aside>\n",
        "💡 **Question 2**\n",
        "\n",
        "Given a stack of integers, sort it in ascending order using another temporary stack.\n",
        "\n",
        "</aside>"
      ],
      "metadata": {
        "id": "t2aOQakxevIr"
      }
    },
    {
      "cell_type": "code",
      "source": [
        "\n",
        "def sortStack ( stack ):\n",
        "\ttmpStack = createStack()\n",
        "\twhile(isEmpty(stack) == False):\n",
        "\n",
        "\t\ttmp = top(stack)\n",
        "\t\tpop(stack)\n",
        "\n",
        "\n",
        "\t\twhile(isEmpty(tmpStack) == False and\n",
        "\t\t\tint(top(tmpStack)) < int(tmp)):\n",
        "\n",
        "\t\t\tpush(stack,top(tmpStack))\n",
        "\t\t\tpop(tmpStack)\n",
        "\n",
        "\t\tpush(tmpStack,tmp)\n",
        "\n",
        "\treturn tmpStack\n",
        "\n",
        "\n",
        "def createStack():\n",
        "\tstack = []\n",
        "\treturn stack\n",
        "\n",
        "\n",
        "def isEmpty( stack ):\n",
        "\treturn len(stack) == 0\n",
        "\n",
        "def push( stack, item ):\n",
        "\tstack.append( item )\n",
        "\n",
        "def top( stack ):\n",
        "\tp = len(stack)\n",
        "\treturn stack[p-1]\n",
        "\n",
        "def pop( stack ):\n",
        "\n",
        "\n",
        "\tif(isEmpty( stack )):\n",
        "\t\tprint(\"Stack Underflow \")\n",
        "\t\texit(1)\n",
        "\n",
        "\treturn stack.pop()\n",
        "\n",
        "def prints(stack):\n",
        "\tfor i in range(len(stack)-1, -1, -1):\n",
        "\t\tprint(stack[i], end = ' ')\n",
        "\tprint()\n",
        "\n",
        "\n",
        "stack = createStack()\n",
        "push( stack, str(34) )\n",
        "push( stack, str(3) )\n",
        "push( stack, str(31) )\n",
        "push( stack, str(98) )\n",
        "push( stack, str(92) )\n",
        "push( stack, str(23) )\n",
        "\n",
        "print(\"Sorted numbers are: \")\n",
        "sortedst = sortStack ( stack )\n",
        "prints(sortedst)\n"
      ],
      "metadata": {
        "colab": {
          "base_uri": "https://localhost:8080/"
        },
        "id": "MDl9fYblepuP",
        "outputId": "198d1acc-3249-4b91-a6e6-f9069fdd7814"
      },
      "execution_count": 8,
      "outputs": [
        {
          "output_type": "stream",
          "name": "stdout",
          "text": [
            "Sorted numbers are: \n",
            "3 23 31 34 92 98 \n"
          ]
        }
      ]
    },
    {
      "cell_type": "code",
      "source": [],
      "metadata": {
        "id": "viUbuL4YfKSz"
      },
      "execution_count": null,
      "outputs": []
    },
    {
      "cell_type": "markdown",
      "source": [
        "<aside>\n",
        "💡 **Question 3**\n",
        "\n",
        "Given a stack with **push()**, **pop()**, and **empty()** operations, The task is to delete the **middle** element ****of it without using any additional data structure.\n",
        "\n",
        "</aside>"
      ],
      "metadata": {
        "id": "yG1NhkfZfVfY"
      }
    },
    {
      "cell_type": "code",
      "source": [
        "class Stack:\n",
        "\tdef __init__(self):\n",
        "\t\tself.items = []\n",
        "\n",
        "\tdef isEmpty(self):\n",
        "\t\treturn self.items == []\n",
        "\n",
        "\tdef push(self, item):\n",
        "\t\tself.items.append(item)\n",
        "\n",
        "\tdef pop(self):\n",
        "\t\treturn self.items.pop()\n",
        "\n",
        "\tdef peek(self):\n",
        "\t\treturn self.items[len(self.items)-1]\n",
        "\n",
        "\tdef size(self):\n",
        "\t\treturn len(self.items)\n",
        "\n",
        "def deleteMid(st, n, curr) :\n",
        "\n",
        "\tif (st.isEmpty() or curr == n) :\n",
        "\t\treturn\n",
        "\n",
        "\tx = st.peek()\n",
        "\tst.pop()\n",
        "\n",
        "\tdeleteMid(st, n, curr+1)\n",
        "\n",
        "\tif (curr != int(n/2)) :\n",
        "\t\tst.push(x)\n",
        "\n",
        "\n",
        "st = Stack()\n",
        "\n",
        "st.push('1')\n",
        "st.push('2')\n",
        "st.push('3')\n",
        "st.push('4')\n",
        "st.push('5')\n",
        "st.push('6')\n",
        "st.push('7')\n",
        "\n",
        "deleteMid(st, st.size(), 0)\n",
        "\n",
        "\n",
        "while (st.isEmpty() == False) :\n",
        "\tp = st.peek()\n",
        "\tst.pop()\n",
        "\tprint (str(p) + \" \", end=\"\")\n"
      ],
      "metadata": {
        "colab": {
          "base_uri": "https://localhost:8080/"
        },
        "id": "BQqKNv-CfWQh",
        "outputId": "365532e2-4ff0-4394-c7f6-a89bcea4dba9"
      },
      "execution_count": 9,
      "outputs": [
        {
          "output_type": "stream",
          "name": "stdout",
          "text": [
            "7 6 5 3 2 1 "
          ]
        }
      ]
    },
    {
      "cell_type": "code",
      "source": [],
      "metadata": {
        "id": "6I57ZkZoftAp"
      },
      "execution_count": null,
      "outputs": []
    },
    {
      "cell_type": "markdown",
      "source": [
        "<aside>\n",
        "💡 **Question 4**\n",
        "\n",
        "Given a Queue consisting of first **n** natural numbers (in random order). The task is to check whether the given Queue elements can be arranged in increasing order in another Queue using a stack. The operation allowed are:\n",
        "\n",
        "1. Push and pop elements from the stack\n",
        "2. Pop (Or Dequeue) from the given Queue.\n",
        "3. Push (Or Enqueue) in the another Queue.\n",
        "</aside>"
      ],
      "metadata": {
        "id": "D8kPQXhffvhu"
      }
    },
    {
      "cell_type": "code",
      "source": [
        "from queue import Queue\n",
        "\n",
        "def checkSorted(n, q):\n",
        "\tst = []\n",
        "\texpected = 1\n",
        "\tfnt = None\n",
        "\n",
        "\n",
        "\twhile (not q.empty()):\n",
        "\t\tfnt = q.queue[0]\n",
        "\t\tq.get()\n",
        "\n",
        "\t\tif (fnt == expected):\n",
        "\t\t\texpected += 1\n",
        "\n",
        "\t\telse:\n",
        "\n",
        "\n",
        "\t\t\tif (len(st) == 0):\n",
        "\t\t\t\tst.append(fnt)\n",
        "\n",
        "\t\t\telif (len(st) != 0 and st[-1] < fnt):\n",
        "\t\t\t\treturn False\n",
        "\n",
        "\n",
        "\t\t\telse:\n",
        "\t\t\t\tst.append(fnt)\n",
        "\n",
        "\t\twhile (len(st) != 0 and\n",
        "\t\t\t\tst[-1] == expected):\n",
        "\t\t\tst.pop()\n",
        "\t\t\texpected += 1\n",
        "\n",
        "\tif (expected - 1 == n and len(st) == 0):\n",
        "\t\treturn True\n",
        "\n",
        "\treturn False\n",
        "\n",
        "\n",
        "q = Queue()\n",
        "q.put(5)\n",
        "q.put(1)\n",
        "q.put(2)\n",
        "q.put(3)\n",
        "q.put(4)\n",
        "\n",
        "n = q.qsize()\n",
        "\n",
        "if checkSorted(n, q):\n",
        "\tprint(\"Yes\")\n",
        "else:\n",
        "\tprint(\"No\")\n"
      ],
      "metadata": {
        "colab": {
          "base_uri": "https://localhost:8080/"
        },
        "id": "uZqk1hOQfus7",
        "outputId": "560b1dcf-da41-45cc-9ea3-2ef6329b39c8"
      },
      "execution_count": 11,
      "outputs": [
        {
          "output_type": "stream",
          "name": "stdout",
          "text": [
            "Yes\n"
          ]
        }
      ]
    },
    {
      "cell_type": "code",
      "source": [],
      "metadata": {
        "id": "stdTWj3sgFT7"
      },
      "execution_count": null,
      "outputs": []
    },
    {
      "cell_type": "markdown",
      "source": [
        "<aside>\n",
        "💡 **Question 5**\n",
        "\n",
        "Given a number , write a program to reverse this number using stack.\n",
        "\n",
        "</aside>"
      ],
      "metadata": {
        "id": "_BDhLt7NgP4k"
      }
    },
    {
      "cell_type": "code",
      "source": [
        "st = [];\n",
        "\n",
        "def push_digits(number):\n",
        "\n",
        "\twhile (number != 0):\n",
        "\t\tst.append(number % 10);\n",
        "\t\tnumber = int(number / 10);\n",
        "\n",
        "def reverse_number(number):\n",
        "\n",
        "\tpush_digits(number);\n",
        "\n",
        "\treverse = 0;\n",
        "\ti = 1;\n",
        "\n",
        "\twhile (len(st) > 0):\n",
        "\t\treverse = reverse + (st[len(st) - 1] * i);\n",
        "\t\tst.pop();\n",
        "\t\ti = i * 10;\n",
        "\n",
        "\treturn reverse;\n",
        "\n",
        "\n",
        "number = 39997;\n",
        "\n",
        "print(reverse_number(number));\n",
        "\n"
      ],
      "metadata": {
        "colab": {
          "base_uri": "https://localhost:8080/"
        },
        "id": "FVPJ2skegQP2",
        "outputId": "6e579eb6-f366-41be-ead9-4190d84eda97"
      },
      "execution_count": 12,
      "outputs": [
        {
          "output_type": "stream",
          "name": "stdout",
          "text": [
            "79993\n"
          ]
        }
      ]
    },
    {
      "cell_type": "code",
      "source": [],
      "metadata": {
        "id": "mi5AUbzWgez_"
      },
      "execution_count": null,
      "outputs": []
    },
    {
      "cell_type": "markdown",
      "source": [
        "<aside>\n",
        "💡 **Question 6**\n",
        "\n",
        "Given an integer k and a **[queue](https://www.geeksforgeeks.org/queue-data-structure/)** of integers, The task is to reverse the order of the first **k** elements of the queue, leaving the other elements in the same relative order.\n",
        "\n",
        "</aside>"
      ],
      "metadata": {
        "id": "BYf8KmbUgidr"
      }
    },
    {
      "cell_type": "code",
      "source": [
        "from queue import Queue\n",
        "\n",
        "def reverseQueueFirstKElements(k, Queue):\n",
        "\tif (Queue.empty() == True or\n",
        "\t\t\tk > Queue.qsize()):\n",
        "\t\treturn\n",
        "\tif (k <= 0):\n",
        "\t\treturn\n",
        "\n",
        "\tStack = []\n",
        "\n",
        "\tfor i in range(k):\n",
        "\t\tStack.append(Queue.queue[0])\n",
        "\t\tQueue.get()\n",
        "\n",
        "\twhile (len(Stack) != 0):\n",
        "\t\tQueue.put(Stack[-1])\n",
        "\t\tStack.pop()\n",
        "\n",
        "\tfor i in range(Queue.qsize() - k):\n",
        "\t\tQueue.put(Queue.queue[0])\n",
        "\t\tQueue.get()\n",
        "\n",
        "\n",
        "def Print(Queue):\n",
        "\twhile (not Queue.empty()):\n",
        "\t\tprint(Queue.queue[0], end=\" \")\n",
        "\t\tQueue.get()\n",
        "\n",
        "if __name__ == '__main__':\n",
        "\tQueue = Queue()\n",
        "\tQueue.put(10)\n",
        "\tQueue.put(20)\n",
        "\tQueue.put(30)\n",
        "\tQueue.put(40)\n",
        "\tQueue.put(50)\n",
        "\tQueue.put(60)\n",
        "\tQueue.put(70)\n",
        "\tQueue.put(80)\n",
        "\tQueue.put(90)\n",
        "\tQueue.put(100)\n",
        "\n",
        "\tk = 5\n",
        "\treverseQueueFirstKElements(k, Queue)\n",
        "\tPrint(Queue)"
      ],
      "metadata": {
        "colab": {
          "base_uri": "https://localhost:8080/"
        },
        "id": "LfPqVh0rgiz8",
        "outputId": "84631785-1649-4547-9751-96face3c77d6"
      },
      "execution_count": 13,
      "outputs": [
        {
          "output_type": "stream",
          "name": "stdout",
          "text": [
            "50 40 30 20 10 60 70 80 90 100 "
          ]
        }
      ]
    },
    {
      "cell_type": "code",
      "source": [],
      "metadata": {
        "id": "BRQ43r9igv-9"
      },
      "execution_count": null,
      "outputs": []
    }
  ]
}