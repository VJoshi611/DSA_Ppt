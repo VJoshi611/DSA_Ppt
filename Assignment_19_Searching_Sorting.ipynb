{
  "nbformat": 4,
  "nbformat_minor": 0,
  "metadata": {
    "colab": {
      "provenance": []
    },
    "kernelspec": {
      "name": "python3",
      "display_name": "Python 3"
    },
    "language_info": {
      "name": "python"
    }
  },
  "cells": [
    {
      "cell_type": "code",
      "execution_count": null,
      "metadata": {
        "id": "DGATAsC2dTzv"
      },
      "outputs": [],
      "source": []
    },
    {
      "cell_type": "markdown",
      "source": [
        "<aside>\n",
        "💡 1. **Merge k Sorted Lists**\n",
        "\n",
        "You are given an array of `k` linked-lists `lists`, each linked-list is sorted in ascending order.\n",
        "\n",
        "*Merge all the linked-lists into one sorted linked-list and return it.*\n",
        "\n",
        "</aside>"
      ],
      "metadata": {
        "id": "x6Csk-jllL6M"
      }
    },
    {
      "cell_type": "code",
      "source": [
        "# Definition for singly-linked list.\n",
        "# class ListNode:\n",
        "#     def __init__(self, val=0, next=None):\n",
        "#         self.val = val\n",
        "#         self.next = next\n",
        "class Solution:\n",
        "    def mergeKLists(self, head: List[Optional[ListNode]]) -> Optional[ListNode]:\n",
        "        # Creating a list from the given LinkNode\n",
        "        new=[]\n",
        "        for i in head:\n",
        "            while(i):\n",
        "                new.append(i.val)\n",
        "                i = i.next\n",
        "\n",
        "        # Sort the list and reverse it\n",
        "        a=sorted(new,reverse=True)\n",
        "\n",
        "        # Create a ListNode from list\n",
        "        final=None\n",
        "        for i in a:\n",
        "            final=ListNode(i,final)\n",
        "        return final"
      ],
      "metadata": {
        "id": "1DnIERkAlOoa"
      },
      "execution_count": null,
      "outputs": []
    },
    {
      "cell_type": "markdown",
      "source": [
        "<aside>\n",
        "💡 2. **Count of Smaller Numbers After Self**\n",
        "\n",
        "Given an integer array `nums`, return *an integer array* `counts` *where* `counts[i]` *is the number of smaller elements to the right of* `nums[i]`.\n",
        "\n",
        "</aside>"
      ],
      "metadata": {
        "id": "s0naqLYPlaLa"
      }
    },
    {
      "cell_type": "code",
      "source": [
        "class Solution:\n",
        "\n",
        "    def countSmaller(self, nums: List[int]) -> List[int]:\n",
        "        arr, ans = sorted(nums), []     #   <-- 1)\n",
        "\n",
        "        for num in nums:\n",
        "            i = bisect_left(arr,num)    #   <-- 2a)\n",
        "            ans.append(i)               #   <-- 2b)\n",
        "            del arr[i]                  #   <-- 2c)\n",
        "\n",
        "        return ans                      #   <-- 3)"
      ],
      "metadata": {
        "id": "t3oIaTQ0ldFb"
      },
      "execution_count": null,
      "outputs": []
    },
    {
      "cell_type": "markdown",
      "source": [
        "<aside>\n",
        "💡 3. **Sort an Array**\n",
        "\n",
        "Given an array of integers `nums`, sort the array in ascending order and return it.\n",
        "\n",
        "You must solve the problem **without using any built-in** functions in `O(nlog(n))` time complexity and with the smallest space complexity possible.\n",
        "\n",
        "</aside>"
      ],
      "metadata": {
        "id": "sITs8QYRltMO"
      }
    },
    {
      "cell_type": "code",
      "source": [
        "class Solution:\n",
        "    def sortArray(self,nums:list[int]) -> list[int]:    #   Example: [3,3,1,8,6,5,5,5,5]\n",
        "\n",
        "        ctr  = Counter(nums)                            #   ctr = {5:4, 3:2, 1:1, 8:1, 6:1}\n",
        "\n",
        "        return list(chain(*([i]*ctr[i]                  #   return    list(chain( *([1]*1, [3]*2, [5]*4, [6]*1, [8]*1) ))\n",
        "                    for i in range(min(ctr),            #           = list(chain([1], [3,3,3], [5,5,5,5], [6], [8] ))\n",
        "                    max(ctr)+1) if i in ctr)))          #           = [1, 3,3, 5,5,5,5, 6, 8]\n",
        ""
      ],
      "metadata": {
        "id": "OBtSmV2YlxK9"
      },
      "execution_count": null,
      "outputs": []
    },
    {
      "cell_type": "markdown",
      "source": [
        "<aside>\n",
        "💡 4. **Move all zeroes to end of array**\n",
        "\n",
        "Given an array of random numbers, Push all the zero’s of a given array to the end of the array. For example, if the given arrays is {1, 9, 8, 4, 0, 0, 2, 7, 0, 6, 0}, it should be changed to {1, 9, 8, 4, 2, 7, 6, 0, 0, 0, 0}. The order of all other elements should be same. Expected time complexity is O(n) and extra space is O(1).\n",
        "\n",
        "</aside>"
      ],
      "metadata": {
        "id": "jeJ9d3Y8l5Ub"
      }
    },
    {
      "cell_type": "code",
      "source": [
        "class Solution:\n",
        "    def moveZeroes(self, nums: List[int]) -> None:\n",
        "        \"\"\"\n",
        "        Do not return anything, modify nums in-place instead.\n",
        "        \"\"\"\n",
        "        z = 0\n",
        "        for a in range(len(nums)):\n",
        "            if nums[a] != 0 and nums[z] == 0:\n",
        "                nums[z], nums[a] = nums[a], nums[z]\n",
        "\n",
        "            # finding a non-zero element\n",
        "            if nums[z] != 0:\n",
        "                z += 1"
      ],
      "metadata": {
        "id": "XhvAhTbFl70E"
      },
      "execution_count": null,
      "outputs": []
    },
    {
      "cell_type": "markdown",
      "source": [
        "<aside>\n",
        "💡 5. **Rearrange array in alternating positive & negative items with O(1) extra space**\n",
        "\n",
        "Given an **array of positive** and **negative numbers**, arrange them in an **alternate** fashion such that every positive number is followed by a negative and vice-versa maintaining the **order of appearance**. The number of positive and negative numbers need not be equal. If there are more positive numbers they appear at the end of the array. If there are more negative numbers, they too appear at the end of the array.\n",
        "\n",
        "</aside>"
      ],
      "metadata": {
        "id": "8q2jECaEmCBs"
      }
    },
    {
      "cell_type": "code",
      "source": [
        "result = []\n",
        "for a,b in zip([n for n in nums if n > 0], [n for n in nums if n < 0]):\n",
        "    result += [a,b]\n",
        "return result\n"
      ],
      "metadata": {
        "id": "9LaGje1mmEEM"
      },
      "execution_count": null,
      "outputs": []
    },
    {
      "cell_type": "markdown",
      "source": [
        "<aside>\n",
        "💡 **6. Merge two sorted arrays**\n",
        "\n",
        "Given two sorted arrays, the task is to merge them in a sorted manner.\n",
        "\n",
        "</aside>"
      ],
      "metadata": {
        "id": "6Bzee7YsmR9-"
      }
    },
    {
      "cell_type": "code",
      "source": [
        "class Solution:\n",
        "    def merge(self, nums1: List[int], m: int, nums2: List[int], n: int) -> None:\n",
        "        \"\"\"\n",
        "        Do not return anything, modify nums1 in-place instead.\n",
        "        \"\"\"\n",
        "        j=0\n",
        "        for i in range(m,len(nums1)):\n",
        "            nums1[i] = nums2[j]\n",
        "            j+=1\n",
        "        print(nums1.sort())"
      ],
      "metadata": {
        "id": "Xl4uuS_RmZkk"
      },
      "execution_count": null,
      "outputs": []
    },
    {
      "cell_type": "code",
      "source": [],
      "metadata": {
        "id": "dae8OdAqmgCB"
      },
      "execution_count": null,
      "outputs": []
    }
  ]
}