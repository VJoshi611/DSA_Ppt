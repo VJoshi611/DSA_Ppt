{
  "nbformat": 4,
  "nbformat_minor": 0,
  "metadata": {
    "colab": {
      "provenance": []
    },
    "kernelspec": {
      "name": "python3",
      "display_name": "Python 3"
    },
    "language_info": {
      "name": "python"
    }
  },
  "cells": [
    {
      "cell_type": "markdown",
      "source": [
        "<aside>\n",
        "💡 **Question 1**\n",
        "\n",
        "Given a non-negative integer `x`, return *the square root of* `x` *rounded down to the nearest integer*. The returned integer should be **non-negative** as well.\n",
        "\n",
        "You **must not use** any built-in exponent function or operator.\n",
        "\n",
        "- For example, do not use `pow(x, 0.5)` in c++ or `x ** 0.5` in python.\n",
        "</aside>"
      ],
      "metadata": {
        "id": "lhUwCEpLHzkj"
      }
    },
    {
      "cell_type": "code",
      "source": [
        "def isPowerOfThree(n):\n",
        "    if n == 1:\n",
        "        return True\n",
        "    elif n <= 0 or n % 3 != 0:\n",
        "        return False\n",
        "    else:\n",
        "        return isPowerOfThree(n // 3)\n",
        "print(isPowerOfThree(0))\n",
        "print(isPowerOfThree(27))"
      ],
      "metadata": {
        "colab": {
          "base_uri": "https://localhost:8080/"
        },
        "id": "_lLuB6DwHoey",
        "outputId": "9ab56ca3-da46-4235-8dc1-5c268fa96d72"
      },
      "execution_count": 3,
      "outputs": [
        {
          "output_type": "stream",
          "name": "stdout",
          "text": [
            "False\n",
            "True\n"
          ]
        }
      ]
    },
    {
      "cell_type": "markdown",
      "source": [
        "<aside>\n",
        "💡 **Question 2**\n",
        "\n",
        "A peak element is an element that is strictly greater than its neighbors.\n",
        "\n",
        "Given a **0-indexed** integer array `nums`, find a peak element, and return its index. If the array contains multiple peaks, return the index to **any of the peaks**.\n",
        "\n",
        "You may imagine that `nums[-1] = nums[n] = -∞`. In other words, an element is always considered to be strictly greater than a neighbor that is outside the array.\n",
        "\n",
        "You must write an algorithm that runs in `O(log n)` time.\n",
        "\n",
        "</aside>"
      ],
      "metadata": {
        "id": "uqt6x0AdIMBo"
      }
    },
    {
      "cell_type": "code",
      "source": [
        "def lastRemaining(n):\n",
        "    if n == 1:\n",
        "        return 1\n",
        "\n",
        "    # When moving left to right, the step size is 2\n",
        "    step_size = 2\n",
        "\n",
        "    # When moving left to right, the first element is always removed\n",
        "    first_removed = 1\n",
        "\n",
        "    # When moving left to right, the next list size is halved\n",
        "    next_n = n // 2\n",
        "\n",
        "    # After moving from left to right, the pattern changes to moving right to left So, we call the function recursively with the new parameters\n",
        "    return step_size * lastRemaining(next_n) - (step_size // 2) + (first_removed if next_n % 2 == 1 else 0)\n",
        "\n",
        "print(lastRemaining(9))  # Output: 6\n"
      ],
      "metadata": {
        "colab": {
          "base_uri": "https://localhost:8080/"
        },
        "id": "LAQwa5XJHoge",
        "outputId": "1b5d767b-7522-41b0-e321-74d267e3d8ca"
      },
      "execution_count": 4,
      "outputs": [
        {
          "output_type": "stream",
          "name": "stdout",
          "text": [
            "5\n"
          ]
        }
      ]
    },
    {
      "cell_type": "markdown",
      "source": [
        "<aside>\n",
        "💡 **Question 3**\n",
        "\n",
        "****\n",
        "\n",
        "Given an array `nums` containing `n` distinct numbers in the range `[0, n]`, return *the only number in the range that is missing from the array.*\n",
        "\n",
        "</aside>"
      ],
      "metadata": {
        "id": "gQwmbB6yIeB_"
      }
    },
    {
      "cell_type": "code",
      "source": [
        "def generateSubsets(s):\n",
        "    if len(s) == 0:\n",
        "        return set([\"\"])\n",
        "\n",
        "    first = s[0]\n",
        "    remaining = s[1:]\n",
        "\n",
        "    subsets = generateSubsets(remaining)\n",
        "    result = set()\n",
        "\n",
        "    for subset in subsets:\n",
        "        result.add(subset)\n",
        "        result.add(first + subset)\n",
        "\n",
        "    return result\n",
        "print(generateSubsets(\"abc\"))\n",
        "\n"
      ],
      "metadata": {
        "colab": {
          "base_uri": "https://localhost:8080/"
        },
        "id": "_YzpPdHeHojR",
        "outputId": "4fec15c5-72c5-4a70-81c4-34b383afc390"
      },
      "execution_count": 6,
      "outputs": [
        {
          "output_type": "stream",
          "name": "stdout",
          "text": [
            "{'', 'ac', 'a', 'ab', 'bc', 'b', 'c', 'abc'}\n"
          ]
        }
      ]
    },
    {
      "cell_type": "markdown",
      "source": [
        "<aside>\n",
        "💡 **Question 4**\n",
        "\n",
        "Given an array of integers `nums` containing `n + 1` integers where each integer is in the range `[1, n]` inclusive.\n",
        "\n",
        "There is only **one repeated number** in `nums`, return *this repeated number*.\n",
        "\n",
        "You must solve the problem **without** modifying the array `nums` and uses only constant extra space.\n",
        "\n",
        "</aside>"
      ],
      "metadata": {
        "id": "Gq_cNVMbIlaX"
      }
    },
    {
      "cell_type": "code",
      "source": [
        "def calLength(string):\n",
        "    if string == \"\":\n",
        "        return 0\n",
        "    else:\n",
        "        return 1 + calLength(string[1:])\n",
        "print(calLength(\"abcd\"))\n"
      ],
      "metadata": {
        "colab": {
          "base_uri": "https://localhost:8080/"
        },
        "id": "aPNR0qISHolG",
        "outputId": "f3799148-fd95-4f3b-c8a4-3e6569f7e2dd"
      },
      "execution_count": 9,
      "outputs": [
        {
          "output_type": "stream",
          "name": "stdout",
          "text": [
            "4\n"
          ]
        }
      ]
    },
    {
      "cell_type": "markdown",
      "source": [
        "<aside>\n",
        "💡 **Question 5**\n",
        "\n",
        "Given two integer arrays `nums1` and `nums2`, return *an array of their intersection*. Each element in the result must be **unique** and you may return the result in **any order**.\n",
        "\n",
        "</aside>"
      ],
      "metadata": {
        "id": "VB7iYyIuIyi7"
      }
    },
    {
      "cell_type": "code",
      "source": [
        "def countSubstrings(S):\n",
        "    if len(S) <= 1:\n",
        "        return 0\n",
        "    else:\n",
        "        count = 0\n",
        "        if S[0] == S[-1]:\n",
        "            count += 1\n",
        "        count += countSubstrings(S[1:])\n",
        "        return count\n",
        "print(countSubstrings(\"abcab\"))"
      ],
      "metadata": {
        "colab": {
          "base_uri": "https://localhost:8080/"
        },
        "id": "24paMIQvIu59",
        "outputId": "5267a89d-edff-4e2d-ac75-f2fb7386a9dc"
      },
      "execution_count": 11,
      "outputs": [
        {
          "output_type": "stream",
          "name": "stdout",
          "text": [
            "1\n"
          ]
        }
      ]
    },
    {
      "cell_type": "markdown",
      "source": [
        "<aside>\n",
        "💡 **Question 6**\n",
        "\n",
        "Suppose an array of length `n` sorted in ascending order is **rotated** between `1` and `n` times. For example, the array `nums = [0,1,2,4,5,6,7]` might become:\n",
        "\n",
        "- `[4,5,6,7,0,1,2]` if it was rotated `4` times.\n",
        "- `[0,1,2,4,5,6,7]` if it was rotated `7` times.\n",
        "\n",
        "Notice that **rotating** an array `[a[0], a[1], a[2], ..., a[n-1]]` 1 time results in the array `[a[n-1], a[0], a[1], a[2], ..., a[n-2]]`.\n",
        "\n",
        "Given the sorted rotated array `nums` of **unique** elements, return *the minimum element of this array*.\n",
        "\n",
        "You must write an algorithm that runs in `O(log n) time.`\n",
        "\n",
        "</aside>"
      ],
      "metadata": {
        "id": "D4EmDT2oI_Px"
      }
    },
    {
      "cell_type": "code",
      "source": [
        "def towerOfHanoi(n, source, destination, auxiliary):\n",
        "    if n == 1:\n",
        "        print(f\"Move disc 1 from {source} to {destination}\")\n",
        "        return\n",
        "\n",
        "    towerOfHanoi(n - 1, source, auxiliary, destination)\n",
        "    print(f\"Move disc {n} from {source} to {destination}\")\n",
        "    towerOfHanoi(n - 1, auxiliary, destination, source)\n",
        "towerOfHanoi(3, 'A', 'C', 'B')"
      ],
      "metadata": {
        "colab": {
          "base_uri": "https://localhost:8080/"
        },
        "id": "T3-eRPeOHooB",
        "outputId": "d5d5042b-9c2d-4fb4-c845-4003fee97ad8"
      },
      "execution_count": 12,
      "outputs": [
        {
          "output_type": "stream",
          "name": "stdout",
          "text": [
            "Move disc 1 from A to C\n",
            "Move disc 2 from A to B\n",
            "Move disc 1 from C to B\n",
            "Move disc 3 from A to C\n",
            "Move disc 1 from B to A\n",
            "Move disc 2 from B to C\n",
            "Move disc 1 from A to C\n"
          ]
        }
      ]
    },
    {
      "cell_type": "markdown",
      "source": [
        "<aside>\n",
        "💡 **Question 7**\n",
        "\n",
        "Given an array of integers `nums` sorted in non-decreasing order, find the starting and ending position of a given `target` value.\n",
        "\n",
        "If `target` is not found in the array, return `[-1, -1]`.\n",
        "\n",
        "You must write an algorithm with `O(log n)` runtime complexity.\n",
        "\n",
        "</aside>"
      ],
      "metadata": {
        "id": "5si2XSDiJJAk"
      }
    },
    {
      "cell_type": "code",
      "source": [],
      "metadata": {
        "id": "xP515-H_JPds"
      },
      "execution_count": null,
      "outputs": []
    },
    {
      "cell_type": "markdown",
      "source": [
        "Question 8] Given two integer arrays nums1 and nums2, return an array of their intersection. Each element in the result must appear as many times as it shows in both arrays and you may return the result in any order."
      ],
      "metadata": {
        "id": "To_ybYfrJfVS"
      }
    },
    {
      "cell_type": "code",
      "source": [
        "def countConsonants(string):\n",
        "    vowels = ['a', 'e', 'i', 'o', 'u']\n",
        "\n",
        "    if string == \"\":\n",
        "        return 0\n",
        "    else:\n",
        "        count = 0\n",
        "        if string[0].isalpha() and string[0].lower() not in vowels:\n",
        "            count += 1\n",
        "        count += countConsonants(string[1:])\n",
        "        return count\n",
        "print(countConsonants(\"abc de\"))  # Output: 3"
      ],
      "metadata": {
        "colab": {
          "base_uri": "https://localhost:8080/"
        },
        "id": "CUJjQh2NJj6B",
        "outputId": "ba8a6f58-5e28-4901-c105-2c5f216c2ccd"
      },
      "execution_count": 16,
      "outputs": [
        {
          "output_type": "stream",
          "name": "stdout",
          "text": [
            "3\n"
          ]
        }
      ]
    },
    {
      "cell_type": "code",
      "source": [],
      "metadata": {
        "id": "WoCD_9oCJrD9"
      },
      "execution_count": null,
      "outputs": []
    }
  ]
}