{
  "nbformat": 4,
  "nbformat_minor": 0,
  "metadata": {
    "colab": {
      "provenance": []
    },
    "kernelspec": {
      "name": "python3",
      "display_name": "Python 3"
    },
    "language_info": {
      "name": "python"
    }
  },
  "cells": [
    {
      "cell_type": "code",
      "source": [
        "# Given a singly linked list, delete middle of the linked list. For example, if given linked list is 1->2->3->4->5 then linked list should be modified to 1->2->4->5.\n",
        "# If there are even nodes, then there would be two middle nodes, we need to delete the second middle element\n",
        "\n",
        "# Answer :\n",
        "# leetcode solution\n",
        "\n",
        "# Definition for singly-linked list.\n",
        "# class ListNode:\n",
        "#     def __init__(self, val=0, next=None):\n",
        "#         self.val = val\n",
        "#         self.next = next\n",
        "class Solution:\n",
        "    def deleteMiddle(self, head: Optional[ListNode]) -> Optional[ListNode]:\n",
        "        mapped = []\n",
        "        n = 0\n",
        "        while head:\n",
        "            mapped.append(head)\n",
        "            n += 1\n",
        "            head = head.next\n",
        "        middle = n // 2 if n % 2 else ceil(n/2)\n",
        "        if n - 1:\n",
        "            mapped[middle-1].next = mapped[middle].next\n",
        "            return mapped[0]\n",
        "        else :\n",
        "            return None"
      ],
      "metadata": {
        "id": "1TPFSpwWHLqY"
      },
      "execution_count": null,
      "outputs": []
    },
    {
      "cell_type": "code",
      "source": [
        "# Q2\n",
        "# Given a linked list of N nodes. The task is to check if the linked list has a loop. Linked list can contain self loop.\n",
        "\n",
        "class Solution:\n",
        "    def hasCycle(self, head: Optional[ListNode]) -> bool:\n",
        "        s, f = head,head\n",
        "        while f and f.next:\n",
        "            s = s.next\n",
        "            f = f.next.next\n",
        "            if f == s: return True\n",
        "        return False\n",
        ""
      ],
      "metadata": {
        "id": "d5okTCShHLrq"
      },
      "execution_count": null,
      "outputs": []
    },
    {
      "cell_type": "code",
      "source": [
        "# Q3 Given a linked list consisting of L nodes and given a number N. The task is to find the Nth node from the end of the linked list.\n",
        "\n",
        "\n",
        "class Node:\n",
        "\tdef __init__(self, new_data):\n",
        "\t\tself.data = new_data\n",
        "\t\tself.next = None\n",
        "\n",
        "\n",
        "class LinkedList:\n",
        "    def __init__(self):\n",
        "        self.head = None\n",
        "\n",
        "\n",
        "    def push(self, new_data):\n",
        "        new_node = Node(new_data)\n",
        "        new_node.next = self.head\n",
        "        self.head = new_node\n",
        "\n",
        "    def printFromLast(self, n):\n",
        "        temp = self.head\n",
        "\n",
        "        length = 0\n",
        "        while temp is not None:\n",
        "            temp = temp.next\n",
        "            length += 1\n",
        "\n",
        "        if n > length:\n",
        "            print('overflow ')\n",
        "            return\n",
        "        temp = self.head\n",
        "        for i in range(0, length - n):\n",
        "            temp = temp.next\n",
        "        print(temp.data)\n",
        "\n",
        "\n",
        "llist = LinkedList()\n",
        "llist.push(5)\n",
        "llist.push(6)\n",
        "llist.push(7)\n",
        "llist.push(8)\n",
        "\n",
        "\n",
        "llist.printFromLast(2)\n"
      ],
      "metadata": {
        "colab": {
          "base_uri": "https://localhost:8080/"
        },
        "id": "WLbO6wNLHLuX",
        "outputId": "8a17829d-0181-4a6e-aa38-532f55bfd4e9"
      },
      "execution_count": 9,
      "outputs": [
        {
          "output_type": "stream",
          "name": "stdout",
          "text": [
            "6\n"
          ]
        }
      ]
    },
    {
      "cell_type": "code",
      "source": [
        "# Q4 Given a singly linked list of characters, write a function that returns true if the given list is a palindrome, else false.\n",
        "# took reference from GFG :\n",
        "\n",
        "class Node:\n",
        "\tdef __init__(self, data):\n",
        "\n",
        "\t\tself.data = data\n",
        "\t\tself.ptr = None\n",
        "\n",
        "def ispalindrome(head):\n",
        "\n",
        "\tslow = head\n",
        "\tstack = []\n",
        "\tispalin = True\n",
        "\n",
        "\twhile slow != None:\n",
        "\t\tstack.append(slow.data)\n",
        "\t\tslow = slow.ptr\n",
        "\n",
        "\twhile head != None:\n",
        "\t\ti = stack.pop()\n",
        "\n",
        "\t\tif head.data == i:\n",
        "\t\t\tispalin = True\n",
        "\t\telse:\n",
        "\t\t\tispalin = False\n",
        "\t\t\tbreak\n",
        "\n",
        "\t\thead = head.ptr\n",
        "\n",
        "\treturn ispalin\n",
        "\n",
        "\n",
        "one = Node(1)\n",
        "two = Node(2)\n",
        "three = Node(3)\n",
        "four = Node(4)\n",
        "five = Node(3)\n",
        "six = Node(2)\n",
        "seven = Node(1)\n",
        "\n",
        "\n",
        "one.ptr = two\n",
        "two.ptr = three\n",
        "three.ptr = four\n",
        "four.ptr = five\n",
        "five.ptr = six\n",
        "six.ptr = seven\n",
        "seven.ptr = None\n",
        "\n",
        "\n",
        "result = ispalindrome(one)\n",
        "\n",
        "print(\"isPalindrome:\", result)\n",
        "\n",
        "\n"
      ],
      "metadata": {
        "colab": {
          "base_uri": "https://localhost:8080/"
        },
        "id": "6VhOjA7wHLyG",
        "outputId": "e02245e1-d494-409f-8e5e-a3dacd52bd92"
      },
      "execution_count": 10,
      "outputs": [
        {
          "output_type": "stream",
          "name": "stdout",
          "text": [
            "isPalindrome: True\n"
          ]
        }
      ]
    },
    {
      "cell_type": "code",
      "source": [
        "# Q5 Given a linked list of **N** nodes such that it may contain a loop. A loop here means that the last node of the link list is connected to the node at\n",
        "# position X(1-based index). If the link list does not have any loop, X=0. Remove the loop from the linked list, if it is present, i.e. unlink the last node which is forming the loop.\n",
        "\n",
        "class Node:\n",
        "\n",
        "\tdef __init__(self, data):\n",
        "\t\tself.data = data\n",
        "\t\tself.next = None\n",
        "\n",
        "class LinkedList:\n",
        "\n",
        "\tdef __init__(self):\n",
        "\t\tself.head = None\n",
        "\n",
        "\tdef detectAndRemoveLoop(self):\n",
        "\t\tslow_p = fast_p = self.head\n",
        "\n",
        "\t\twhile(slow_p and fast_p and fast_p.next):\n",
        "\t\t\tslow_p = slow_p.next\n",
        "\t\t\tfast_p = fast_p.next.next\n",
        "\n",
        "\t\t\tif slow_p == fast_p:\n",
        "\t\t\t\tself.removeLoop(slow_p)\n",
        "\n",
        "\t\t\t\t# 1 means loopcfound\n",
        "\t\t\t\treturn 1\n",
        "\n",
        "\t\treturn 0\n",
        "\n",
        "\n",
        "\tdef removeLoop(self, loop_node):\n",
        "\t\tptr1 = loop_node\n",
        "\t\tptr2 = loop_node\n",
        "\n",
        "\n",
        "\t\tk = 1\n",
        "\t\twhile(ptr1.next != ptr2):\n",
        "\t\t\tptr1 = ptr1.next\n",
        "\t\t\tk += 1\n",
        "\n",
        "\t\tptr1 = self.head\n",
        "\n",
        "\t\tptr2 = self.head\n",
        "\t\tfor i in range(k):\n",
        "\t\t\tptr2 = ptr2.next\n",
        "\n",
        "\t\twhile(ptr2 != ptr1):\n",
        "\t\t\tptr1 = ptr1.next\n",
        "\t\t\tptr2 = ptr2.next\n",
        "\n",
        "\t\twhile(ptr2.next != ptr1):\n",
        "\t\t\tptr2 = ptr2.next\n",
        "\n",
        "\t\tptr2.next = None\n",
        "\n",
        "\t# insert a new node at beginning\n",
        "\tdef push(self, new_data):\n",
        "\t\tnew_node = Node(new_data)\n",
        "\t\tnew_node.next = self.head\n",
        "\t\tself.head = new_node\n",
        "\n",
        "\tdef printList(self):\n",
        "\t\ttemp = self.head\n",
        "\t\twhile(temp):\n",
        "\t\t\tprint(temp.data, end = ' ')\n",
        "\t\t\ttemp = temp.next\n",
        "\n",
        "\n",
        "\n",
        "llist = LinkedList()\n",
        "llist.push(1)\n",
        "llist.push(2)\n",
        "llist.push(3)\n",
        "llist.push(4)\n",
        "llist.push(5)\n",
        "\n",
        "# Create a loop for testing\n",
        "llist.head.next.next.next.next.next = llist.head.next.next\n",
        "\n",
        "llist.detectAndRemoveLoop()\n",
        "\n",
        "print(\"Linked List after removing loop\")\n",
        "llist.printList()\n",
        "\n"
      ],
      "metadata": {
        "colab": {
          "base_uri": "https://localhost:8080/"
        },
        "id": "ceSBPgAOHLza",
        "outputId": "621dd437-3231-426b-dccf-4218c8cdebb1"
      },
      "execution_count": 12,
      "outputs": [
        {
          "output_type": "stream",
          "name": "stdout",
          "text": [
            "Linked List after removing loop\n",
            "5 4 3 2 1 "
          ]
        }
      ]
    },
    {
      "cell_type": "code",
      "source": [
        "# Q6 Given a linked list and two integers M and N. Traverse the linked list such that you retain M nodes then delete next N nodes, continue the same till end of the linked list.\n",
        "\n",
        "class Node:\n",
        "\n",
        "\n",
        "\tdef __init__(self, data):\n",
        "\t\tself.data = data\n",
        "\t\tself.next = None\n",
        "\n",
        "class LinkedList:\n",
        "\n",
        "\tdef __init__(self):\n",
        "\t\tself.head = None\n",
        "\n",
        "\tdef push(self, new_data):\n",
        "\t\tnew_node = Node(new_data)\n",
        "\t\tnew_node.next = self.head\n",
        "\t\tself.head = new_node\n",
        "\n",
        "\tdef printList(self):\n",
        "\t\ttemp = self.head\n",
        "\t\twhile(temp):\n",
        "\t\t\tprint (temp.data,end=\" \")\n",
        "\t\t\ttemp = temp.next\n",
        "\n",
        "\tdef skipMdeleteN(self, M, N):\n",
        "\t\tcurr = self.head\n",
        "\n",
        "\t\twhile(curr):\n",
        "\n",
        "\t\t\tfor count in range(1, M):\n",
        "\t\t\t\tif curr is None:\n",
        "\t\t\t\t\treturn\n",
        "\t\t\t\tcurr = curr.next\n",
        "\n",
        "\t\t\tif curr is None :\n",
        "\t\t\t\treturn\n",
        "\n",
        "\t\t\tt = curr.next\n",
        "\t\t\tfor count in range(1, N+1):\n",
        "\t\t\t\tif t is None:\n",
        "\t\t\t\t\tbreak\n",
        "\t\t\t\tt = t.next\n",
        "\n",
        "\t\t\tcurr.next = t\n",
        "\t\t\tcurr = t\n",
        "\n",
        "\n",
        "llist = LinkedList()\n",
        "M = 2\n",
        "N = 3\n",
        "llist.push(1)\n",
        "llist.push(2)\n",
        "llist.push(3)\n",
        "llist.push(4)\n",
        "llist.push(5)\n",
        "llist.push(6)\n",
        "llist.push(7)\n",
        "\n",
        "print (\"M = %d, N = %d\\nGiven Linked List :\" %(M, N))\n",
        "llist.printList()\n",
        "print()\n",
        "\n",
        "llist.skipMdeleteN(M, N)\n",
        "\n",
        "print (\"\\nLinked list after deletion :\")\n",
        "llist.printList()\n",
        "\n"
      ],
      "metadata": {
        "colab": {
          "base_uri": "https://localhost:8080/"
        },
        "id": "mHFd9dwbHL1w",
        "outputId": "3af28786-344a-4ac1-a258-d510a8e1bdde"
      },
      "execution_count": 14,
      "outputs": [
        {
          "output_type": "stream",
          "name": "stdout",
          "text": [
            "M = 2, N = 3\n",
            "Given Linked List :\n",
            "7 6 5 4 3 2 1 \n",
            "\n",
            "Linked list after deletion :\n",
            "7 6 2 1 "
          ]
        }
      ]
    },
    {
      "cell_type": "code",
      "source": [],
      "metadata": {
        "id": "_C4JL831HL3F"
      },
      "execution_count": null,
      "outputs": []
    },
    {
      "cell_type": "code",
      "source": [],
      "metadata": {
        "id": "7u9Z7_riHL5c"
      },
      "execution_count": null,
      "outputs": []
    },
    {
      "cell_type": "code",
      "source": [],
      "metadata": {
        "id": "w8_CSxhVHL6m"
      },
      "execution_count": null,
      "outputs": []
    },
    {
      "cell_type": "code",
      "source": [],
      "metadata": {
        "id": "Ist3NMG5HL-S"
      },
      "execution_count": null,
      "outputs": []
    }
  ]
}