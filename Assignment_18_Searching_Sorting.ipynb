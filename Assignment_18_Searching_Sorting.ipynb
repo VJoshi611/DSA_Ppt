{
  "nbformat": 4,
  "nbformat_minor": 0,
  "metadata": {
    "colab": {
      "provenance": []
    },
    "kernelspec": {
      "name": "python3",
      "display_name": "Python 3"
    },
    "language_info": {
      "name": "python"
    }
  },
  "cells": [
    {
      "cell_type": "code",
      "execution_count": null,
      "metadata": {
        "id": "DGATAsC2dTzv"
      },
      "outputs": [],
      "source": []
    },
    {
      "cell_type": "markdown",
      "source": [
        "<aside>\n",
        "💡 1. **Merge Intervals**\n",
        "\n",
        "Given an array of `intervals` where `intervals[i] = [starti, endi]`, merge all overlapping intervals, and return *an array of the non-overlapping intervals that cover all the intervals in the input*.\n",
        "\n",
        "</aside>"
      ],
      "metadata": {
        "id": "NbeJ4Akbjf6S"
      }
    },
    {
      "cell_type": "code",
      "source": [
        "def mergeIntervals(arr):\n",
        "\n",
        "\tarr.sort(key=lambda x: x[0])\n",
        "\n",
        "\tindex = 0\n",
        "\n",
        "\tfor i in range(1, len(arr)):\n",
        "\n",
        "\t\tif (arr[index][1] >= arr[i][0]):\n",
        "\t\t\tarr[index][1] = max(arr[index][1], arr[i][1])\n",
        "\t\telse:\n",
        "\t\t\tindex = index + 1\n",
        "\t\t\tarr[index] = arr[i]\n",
        "\n",
        "\tprint(\"The Merged Intervals are :\", end=\" \")\n",
        "\tfor i in range(index+1):\n",
        "\t\tprint(arr[i], end=\" \")\n",
        "\n",
        "arr = [[6, 8], [1, 9], [2, 4], [4, 7]]\n",
        "mergeIntervals(arr)\n"
      ],
      "metadata": {
        "colab": {
          "base_uri": "https://localhost:8080/"
        },
        "id": "cexOmQgvjfY5",
        "outputId": "7a63b314-b2a8-4542-fcfb-54b860213d5a"
      },
      "execution_count": 21,
      "outputs": [
        {
          "output_type": "stream",
          "name": "stdout",
          "text": [
            "The Merged Intervals are : [1, 9] "
          ]
        }
      ]
    },
    {
      "cell_type": "code",
      "source": [],
      "metadata": {
        "id": "bnyQZIqCj2-V"
      },
      "execution_count": null,
      "outputs": []
    },
    {
      "cell_type": "markdown",
      "source": [
        "<aside>\n",
        "💡 2. **Sort Colors**\n",
        "\n",
        "Given an array `nums` with `n` objects colored red, white, or blue, sort them **[in-place](https://en.wikipedia.org/wiki/In-place_algorithm)** so that objects of the same color are adjacent, with the colors in the order red, white, and blue.\n",
        "\n",
        "We will use the integers `0`, `1`, and `2` to represent the color red, white, and blue, respectively.\n",
        "\n",
        "</aside>"
      ],
      "metadata": {
        "id": "3vt_-ZCxkB1l"
      }
    },
    {
      "cell_type": "code",
      "source": [
        "class Solution:\n",
        "    def sortColors(self, nums: List[int]) -> None:\n",
        "        \"\"\"\n",
        "        Do not return anything, modify nums in-place instead.\n",
        "        \"\"\"\n",
        "        p0=curr = 0\n",
        "        p2 = len(nums)-1\n",
        "\n",
        "        while curr <= p2:\n",
        "            if nums[curr] == 0:\n",
        "                nums[p0],nums[curr] = nums[curr],nums[p0]\n",
        "                p0 += 1\n",
        "                curr += 1\n",
        "\n",
        "            elif nums[curr] == 2:\n",
        "                nums[p2],nums[curr] = nums[curr],nums[p2]\n",
        "                p2 -=1\n",
        "            else:\n",
        "                curr+=1\n",
        ""
      ],
      "metadata": {
        "id": "0vXUkXwWj_74"
      },
      "execution_count": null,
      "outputs": []
    },
    {
      "cell_type": "markdown",
      "source": [
        "<aside>\n",
        "💡 3. **First Bad Version Solution**\n",
        "\n",
        "You are a product manager and currently leading a team to develop a new product. Unfortunately, the latest version of your product fails the quality check. Since each version is developed based on the previous version, all the versions after a bad version are also bad.\n",
        "\n",
        "Suppose you have `n` versions `[1, 2, ..., n]` and you want to find out the first bad one, which causes all the following ones to be bad.\n",
        "\n",
        "You are given an API `bool isBadVersion(version)` which returns whether `version` is bad. Implement a function to find the first bad version. You should minimize the number of calls to the API.\n",
        "\n",
        "</aside>"
      ],
      "metadata": {
        "id": "2m0YiG66kSEW"
      }
    },
    {
      "cell_type": "code",
      "source": [
        "class Solution:\n",
        "    def firstBadVersion(self, n: int) -> int:\n",
        "        left = 1\n",
        "        right = n\n",
        "        while left < right:\n",
        "            mid = left + (right - left) // 2\n",
        "            if isBadVersion(mid):\n",
        "                right = mid\n",
        "            else:\n",
        "                left = mid + 1\n",
        "        return left"
      ],
      "metadata": {
        "id": "wRs0lqLDkVvw"
      },
      "execution_count": null,
      "outputs": []
    },
    {
      "cell_type": "markdown",
      "source": [
        "<aside>\n",
        "💡 4. **Maximum Gap**\n",
        "\n",
        "Given an integer array `nums`, return *the maximum difference between two successive elements in its sorted form*. If the array contains less than two elements, return `0`.\n",
        "\n",
        "You must write an algorithm that runs in linear time and uses linear extra space.\n",
        "\n",
        "</aside>"
      ],
      "metadata": {
        "id": "WThOMwYCkfXO"
      }
    },
    {
      "cell_type": "code",
      "source": [
        "class Solution:\n",
        "    def maximumGap(self, nums: List[int]) -> int:\n",
        "        nums=sorted(nums)\n",
        "        min=float(\"-inf\")\n",
        "        if len(nums)<2:\n",
        "            return 0\n",
        "        for i in range(len(nums)-1):\n",
        "            x=abs(nums[i]-nums[i+1])\n",
        "            if min<x:\n",
        "                min=x\n",
        "        return min"
      ],
      "metadata": {
        "id": "EIebZzRekiUJ"
      },
      "execution_count": null,
      "outputs": []
    },
    {
      "cell_type": "markdown",
      "source": [
        "<aside>\n",
        "💡 5. **Contains Duplicate**\n",
        "\n",
        "Given an integer array `nums`, return `true` if any value appears **at least twice** in the array, and return `false` if every element is distinct.\n",
        "\n",
        "</aside>"
      ],
      "metadata": {
        "id": "LkNG0E5akpY3"
      }
    },
    {
      "cell_type": "code",
      "source": [
        "class Solution:\n",
        "    def containsDuplicate(self, nums: List[int]) -> bool:\n",
        "        s= set(nums)\n",
        "        if (len(s) == len(nums)):\n",
        "            return 0\n",
        "        else:\n",
        "            return 1"
      ],
      "metadata": {
        "id": "IseWpXsHksKq"
      },
      "execution_count": null,
      "outputs": []
    }
  ]
}