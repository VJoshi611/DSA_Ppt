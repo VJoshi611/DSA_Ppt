{
  "nbformat": 4,
  "nbformat_minor": 0,
  "metadata": {
    "colab": {
      "provenance": []
    },
    "kernelspec": {
      "name": "python3",
      "display_name": "Python 3"
    },
    "language_info": {
      "name": "python"
    }
  },
  "cells": [
    {
      "cell_type": "markdown",
      "source": [
        "<aside>\n",
        "💡 **Question 1**\n",
        "\n",
        "Given two linked list of the same size, the task is to create a new linked list using those linked lists. The condition is that the greater node among both linked list will be added to the new linked list.\n",
        "\n",
        "</aside>"
      ],
      "metadata": {
        "id": "5xlqssPMKITm"
      }
    },
    {
      "cell_type": "code",
      "source": [
        "def minimumDeleteSum(s1, s2):\n",
        "    m, n = len(s1), len(s2)\n",
        "    dp = [[0] * (n + 1) for _ in range(m + 1)]\n",
        "\n",
        "    # Initialize the first row\n",
        "    for j in range(1, n + 1):\n",
        "        dp[0][j] = dp[0][j - 1] + ord(s2[j - 1])\n",
        "\n",
        "    # Initialize the first column\n",
        "    for i in range(1, m + 1):\n",
        "        dp[i][0] = dp[i - 1][0] + ord(s1[i - 1])\n",
        "\n",
        "    # Fill in the remaining cells\n",
        "    for i in range(1, m + 1):\n",
        "        for j in range(1, n + 1):\n",
        "            if s1[i - 1] == s2[j - 1]:\n",
        "                dp[i][j] = dp[i - 1][j - 1]\n",
        "            else:\n",
        "                dp[i][j] = min(dp[i - 1][j] + ord(s1[i - 1]), dp[i][j - 1] + ord(s2[j - 1]))\n",
        "\n",
        "    return dp[m][n]\n",
        "print(minimumDeleteSum(\"sea\",\"eat\"))"
      ],
      "metadata": {
        "colab": {
          "base_uri": "https://localhost:8080/"
        },
        "id": "7d1zQjunKIiN",
        "outputId": "84186bb8-730c-42a0-b4e9-ebfbe8dc7be7"
      },
      "execution_count": 17,
      "outputs": [
        {
          "output_type": "stream",
          "name": "stdout",
          "text": [
            "231\n"
          ]
        }
      ]
    },
    {
      "cell_type": "code",
      "source": [],
      "metadata": {
        "id": "KwRb62J1Kgj4"
      },
      "execution_count": null,
      "outputs": []
    },
    {
      "cell_type": "markdown",
      "source": [
        "<aside>\n",
        "💡 **Question 2**\n",
        "\n",
        "Write a function that takes a list sorted in non-decreasing order and deletes any duplicate nodes from the list. The list should only be traversed once.\n",
        "\n",
        "For example if the linked list is 11->11->11->21->43->43->60 then removeDuplicates() should convert the list to 11->21->43->60.\n",
        "\n",
        "</aside>"
      ],
      "metadata": {
        "id": "QgSUzGwsKhwP"
      }
    },
    {
      "cell_type": "code",
      "source": [
        "def isValid(s):\n",
        "    stack = []\n",
        "\n",
        "    for char in s:\n",
        "        if char == '(' or char == '*':\n",
        "            stack.append(char)\n",
        "        elif char == ')':\n",
        "            if stack and stack[-1] == '(':\n",
        "                stack.pop()\n",
        "            else:\n",
        "                stack.append(char)\n",
        "\n",
        "    asterisks = 0\n",
        "    while stack:\n",
        "        if stack.pop() == '*':\n",
        "            asterisks += 1\n",
        "        else:\n",
        "            if asterisks > 0:\n",
        "                asterisks -= 1\n",
        "            else:\n",
        "                return False\n",
        "\n",
        "    return True\n",
        "print(isValid(\"()\"))"
      ],
      "metadata": {
        "colab": {
          "base_uri": "https://localhost:8080/"
        },
        "id": "MKsCts52KkKo",
        "outputId": "05528c2f-7c94-444f-f752-d172f5909a96"
      },
      "execution_count": 18,
      "outputs": [
        {
          "output_type": "stream",
          "name": "stdout",
          "text": [
            "True\n"
          ]
        }
      ]
    },
    {
      "cell_type": "code",
      "source": [],
      "metadata": {
        "id": "98yrnoDtKmhq"
      },
      "execution_count": null,
      "outputs": []
    },
    {
      "cell_type": "markdown",
      "source": [
        "<aside>\n",
        "💡 **Question 3**\n",
        "\n",
        "Given a linked list of size **N**. The task is to reverse every **k** nodes (where k is an input to the function) in the linked list. If the number of nodes is not a multiple of *k* then left-out nodes, in the end, should be considered as a group and must be reversed (See Example 2 for clarification).\n",
        "\n",
        "</aside>"
      ],
      "metadata": {
        "id": "S0196GL-KoBl"
      }
    },
    {
      "cell_type": "code",
      "source": [
        "def minSteps(word1, word2):\n",
        "    m, n = len(word1), len(word2)\n",
        "    dp = [[0] * (n + 1) for _ in range(m + 1)]\n",
        "\n",
        "    # Initialize the first row\n",
        "    for j in range(1, n + 1):\n",
        "        dp[0][j] = j\n",
        "\n",
        "    # Initialize the first column\n",
        "    for i in range(1, m + 1):\n",
        "        dp[i][0] = i\n",
        "\n",
        "    # Fill in the remaining cells\n",
        "    for i in range(1, m + 1):\n",
        "        for j in range(1, n + 1):\n",
        "            if word1[i - 1] == word2[j - 1]:\n",
        "                dp[i][j] = dp[i - 1][j - 1]\n",
        "            else:\n",
        "                dp[i][j] = 1 + min(dp[i - 1][j], dp[i][j - 1])\n",
        "\n",
        "    return dp[m][n]\n",
        "print(minSteps(\"sea\",\"eat\"))"
      ],
      "metadata": {
        "colab": {
          "base_uri": "https://localhost:8080/"
        },
        "id": "ifLffaAEKq0J",
        "outputId": "5d714054-2e30-4693-e317-e4d85fe3a9d7"
      },
      "execution_count": 19,
      "outputs": [
        {
          "output_type": "stream",
          "name": "stdout",
          "text": [
            "2\n"
          ]
        }
      ]
    },
    {
      "cell_type": "code",
      "source": [],
      "metadata": {
        "id": "ZgkOHYQGKt_z"
      },
      "execution_count": null,
      "outputs": []
    },
    {
      "cell_type": "markdown",
      "source": [
        "<aside>\n",
        "💡 **Question 4**\n",
        "\n",
        "Given a linked list, write a function to reverse every alternate k nodes (where k is an input to the function) in an efficient way. Give the complexity of your algorithm.\n",
        "\n",
        "**Example:**\n",
        "\n",
        "</aside>"
      ],
      "metadata": {
        "id": "H7FgUuwIKvhY"
      }
    },
    {
      "cell_type": "code",
      "source": [
        "class TreeNode:\n",
        "    def __init__(self, val=0, left=None, right=None):\n",
        "        self.val = val\n",
        "        self.left = left\n",
        "        self.right = right\n",
        "\n",
        "def buildTree(s, start, end):\n",
        "    if start > end:\n",
        "        return None\n",
        "\n",
        "    # Find the value of the current node\n",
        "    value = 0\n",
        "    i = start\n",
        "    while i <= end and s[i] != '(':\n",
        "        value = value * 10 + int(s[i])\n",
        "        i += 1\n",
        "\n",
        "    # Find the indices for the left child\n",
        "    leftStart = i + 1\n",
        "    leftEnd = 0\n",
        "    count = 1\n",
        "    i = leftStart\n",
        "    while i <= end and count != 0:\n",
        "        if s[i] == '(':\n",
        "            count += 1\n",
        "        elif s[i] == ')':\n",
        "            count -= 1\n",
        "        if count == 0:\n",
        "            leftEnd = i - 1\n",
        "        i += 1\n",
        "\n",
        "    # Construct the left child\n",
        "    leftChild = buildTree(s, leftStart, leftEnd)\n",
        "\n",
        "    # Determine the indices for the right child\n",
        "    rightStart = leftEnd + 2\n",
        "    rightEnd = end\n",
        "\n",
        "    # Construct the right child\n",
        "    rightChild = buildTree(s, rightStart, rightEnd)\n",
        "\n",
        "    # Create the current node and connect it with the children\n",
        "    node = TreeNode(value)\n",
        "    node.left = leftChild\n",
        "    node.right = rightChild\n",
        "\n",
        "    return node\n",
        "\n",
        "def treeFromString(s):\n",
        "    return buildTree(s, 0, len(s) - 1)\n",
        "\n",
        "def inorderTraversal(node):\n",
        "    if node is None:\n",
        "        return []\n",
        "    return inorderTraversal(node.left) + [node.val] + inorderTraversal(node.right)\n",
        "\n",
        "\n",
        "treeFromString(\"4(2(3)(1))(6(5))\")"
      ],
      "metadata": {
        "id": "Rq_xbGLpLeys"
      },
      "execution_count": null,
      "outputs": []
    },
    {
      "cell_type": "code",
      "source": [],
      "metadata": {
        "id": "uHiDoierLgGw"
      },
      "execution_count": null,
      "outputs": []
    },
    {
      "cell_type": "markdown",
      "source": [
        "<aside>\n",
        "💡 **Question 5**\n",
        "\n",
        "Given a linked list and a key to be deleted. Delete last occurrence of key from linked. The list may have duplicates.\n",
        "\n",
        "</aside>"
      ],
      "metadata": {
        "id": "MxqXH9ZxLNaX"
      }
    },
    {
      "cell_type": "code",
      "source": [
        "def compress(chars):\n",
        "    read = 0\n",
        "    write = 0\n",
        "    count = 1\n",
        "\n",
        "    for i in range(1, len(chars)):\n",
        "        if chars[i] == chars[i - 1]:\n",
        "            count += 1\n",
        "        else:\n",
        "            chars[write] = chars[read]\n",
        "            write += 1\n",
        "            if count > 1:\n",
        "                count_str = str(count)\n",
        "                for digit in count_str:\n",
        "                    chars[write] = digit\n",
        "                    write += 1\n",
        "            count = 1\n",
        "            read = i\n",
        "\n",
        "    chars[write] = chars[read]\n",
        "    write += 1\n",
        "    if count > 1:\n",
        "        count_str = str(count)\n",
        "        for digit in count_str:\n",
        "            chars[write] = digit\n",
        "            write += 1\n",
        "\n",
        "    return write\n",
        "compress([\"a\",\"a\",\"b\",\"b\",\"c\",\"c\",\"c\"])"
      ],
      "metadata": {
        "colab": {
          "base_uri": "https://localhost:8080/"
        },
        "id": "chgdiVvIK789",
        "outputId": "d270cd0c-36ad-4bbd-ef48-e97e31182181"
      },
      "execution_count": 22,
      "outputs": [
        {
          "output_type": "execute_result",
          "data": {
            "text/plain": [
              "6"
            ]
          },
          "metadata": {},
          "execution_count": 22
        }
      ]
    },
    {
      "cell_type": "code",
      "source": [],
      "metadata": {
        "id": "u0hNB55TLSYF"
      },
      "execution_count": null,
      "outputs": []
    },
    {
      "cell_type": "markdown",
      "source": [
        "<aside>\n",
        "💡 **Question 6**\n",
        "\n",
        "Given two sorted linked lists consisting of **N** and **M** nodes respectively. The task is to merge both of the lists (in place) and return the head of the merged list.\n",
        "\n",
        "</aside>"
      ],
      "metadata": {
        "id": "JEgt85vhLUcc"
      }
    },
    {
      "cell_type": "code",
      "source": [
        "from collections import Counter\n",
        "\n",
        "def findAnagrams(s, p):\n",
        "    freq_p = Counter(p)\n",
        "    freq_s = Counter(s[:len(p)])\n",
        "    result = []\n",
        "    left, right = 0, len(p) - 1\n",
        "\n",
        "    while right < len(s):\n",
        "        if freq_p == freq_s:\n",
        "            result.append(left)\n",
        "\n",
        "        freq_s[s[left]] -= 1\n",
        "        if freq_s[s[left]] == 0:\n",
        "            del freq_s[s[left]]\n",
        "        left += 1\n",
        "\n",
        "        right += 1\n",
        "        if right < len(s):\n",
        "            freq_s[s[right]] += 1\n",
        "\n",
        "    return result\n",
        "findAnagrams(\"cbaebabacd\", \"abc\")"
      ],
      "metadata": {
        "colab": {
          "base_uri": "https://localhost:8080/"
        },
        "id": "LAbTxQdWLWy6",
        "outputId": "4ab53274-c239-45ad-fb4b-5ddd202cbb54"
      },
      "execution_count": 23,
      "outputs": [
        {
          "output_type": "execute_result",
          "data": {
            "text/plain": [
              "[0, 6]"
            ]
          },
          "metadata": {},
          "execution_count": 23
        }
      ]
    },
    {
      "cell_type": "code",
      "source": [],
      "metadata": {
        "id": "FljC8rKMLZeq"
      },
      "execution_count": null,
      "outputs": []
    },
    {
      "cell_type": "markdown",
      "source": [
        "<aside>\n",
        "💡 **Question 7**\n",
        "\n",
        "Given a **Doubly Linked List**, the task is to reverse the given Doubly Linked List.\n",
        "\n",
        "</aside>"
      ],
      "metadata": {
        "id": "qyPXZ_G1LiII"
      }
    },
    {
      "cell_type": "code",
      "source": [
        "def decodeString(s):\n",
        "    stack = []\n",
        "    repeat_count = 0\n",
        "    current_string = \"\"\n",
        "\n",
        "    for c in s:\n",
        "        if c.isdigit():\n",
        "            repeat_count = repeat_count * 10 + int(c)\n",
        "        elif c == \"[\":\n",
        "            stack.append(repeat_count)\n",
        "            stack.append(current_string)\n",
        "            repeat_count = 0\n",
        "            current_string = \"\"\n",
        "        elif c == \"]\":\n",
        "            prev_string = stack.pop()\n",
        "            prev_count = stack.pop()\n",
        "            current_string = prev_string + current_string * prev_count\n",
        "        else:\n",
        "            current_string += c\n",
        "\n",
        "    return current_string\n",
        "decodeString(\"3[a]2[bc]\")"
      ],
      "metadata": {
        "colab": {
          "base_uri": "https://localhost:8080/",
          "height": 36
        },
        "id": "b2_Hmz8KLlEu",
        "outputId": "f9d0c4e8-d3e6-42b3-e3f7-27637da3fb59"
      },
      "execution_count": 25,
      "outputs": [
        {
          "output_type": "execute_result",
          "data": {
            "text/plain": [
              "'aaabcbc'"
            ],
            "application/vnd.google.colaboratory.intrinsic+json": {
              "type": "string"
            }
          },
          "metadata": {},
          "execution_count": 25
        }
      ]
    },
    {
      "cell_type": "code",
      "source": [],
      "metadata": {
        "id": "BXf9eB7OLoXO"
      },
      "execution_count": null,
      "outputs": []
    },
    {
      "cell_type": "markdown",
      "source": [
        "<aside>\n",
        "💡 **Question 8**\n",
        "\n",
        "Given a doubly linked list and a position. The task is to delete a node from given position in a doubly linked list.\n",
        "\n",
        "</aside>"
      ],
      "metadata": {
        "id": "DrN-fQDZLo8B"
      }
    },
    {
      "cell_type": "code",
      "source": [
        "def can_swaps_equal(s, goal):\n",
        "    if len(s) != len(goal):\n",
        "        return False\n",
        "\n",
        "    diff_s = []\n",
        "    diff_goal = []\n",
        "\n",
        "    for i in range(len(s)):\n",
        "        if s[i] != goal[i]:\n",
        "            diff_s.append(i)\n",
        "            diff_goal.append(i)\n",
        "\n",
        "        if len(diff_s) > 2:\n",
        "            return False\n",
        "\n",
        "    if len(diff_s) != len(diff_goal):\n",
        "        return False\n",
        "\n",
        "    if len(diff_s) == 0:\n",
        "        return len(set(s)) < len(s)\n",
        "\n",
        "    if len(diff_s) == 2:\n",
        "        return (\n",
        "            s[diff_s[0]] == goal[diff_goal[1]] and\n",
        "            s[diff_s[1]] == goal[diff_goal[0]]\n",
        "        )\n",
        "\n",
        "    return False\n",
        "s = \"ab\"\n",
        "goal = \"ba\"\n",
        "print(can_swaps_equal(s, goal))"
      ],
      "metadata": {
        "colab": {
          "base_uri": "https://localhost:8080/"
        },
        "id": "Ab2bhzTxLrWb",
        "outputId": "9d867ef9-fc48-4f2b-85f9-34cf2e687a7e"
      },
      "execution_count": 26,
      "outputs": [
        {
          "output_type": "stream",
          "name": "stdout",
          "text": [
            "True\n"
          ]
        }
      ]
    },
    {
      "cell_type": "code",
      "source": [],
      "metadata": {
        "id": "xPWo40fZLud8"
      },
      "execution_count": null,
      "outputs": []
    }
  ]
}